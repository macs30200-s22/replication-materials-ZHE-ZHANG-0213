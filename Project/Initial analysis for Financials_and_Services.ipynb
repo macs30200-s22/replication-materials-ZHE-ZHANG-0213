{
 "cells": [
  {
   "cell_type": "code",
   "execution_count": 3,
   "id": "fd4a7362",
   "metadata": {},
   "outputs": [],
   "source": [
    "# import the packages used for analysis\n",
    "import nltk\n",
    "import pandas as pd\n",
    "import numpy as np\n",
    "import string\n",
    "import regex as re\n",
    "\n",
    "import matplotlib.pyplot as plt\n",
    "from nltk.corpus import stopwords\n",
    "from nltk.stem import WordNetLemmatizer\n",
    "from wordcloud import WordCloud, STOPWORDS\n",
    "from sklearn.neighbors import KNeighborsClassifier\n",
    "from sklearn.model_selection import train_test_split\n",
    "from sklearn.feature_extraction.text import TfidfVectorizer\n",
    "from sklearn.metrics import accuracy_score, recall_score\n",
    "from sklearn.metrics import classification_report\n",
    "from sklearn.ensemble import RandomForestClassifier\n",
    "from sklearn.naive_bayes import MultinomialNB\n",
    "from sklearn import feature_extraction, model_selection, metrics, svm"
   ]
  },
  {
   "cell_type": "code",
   "execution_count": 4,
   "id": "11f05a8e",
   "metadata": {},
   "outputs": [],
   "source": [
    "import datetime\n",
    "import spacy\n",
    "import math"
   ]
  },
  {
   "cell_type": "code",
   "execution_count": 5,
   "id": "6f7479f4",
   "metadata": {},
   "outputs": [],
   "source": [
    "data = pd.read_csv('Financials_and_Services.csv')      # reading data"
   ]
  },
  {
   "cell_type": "code",
   "execution_count": 6,
   "id": "dd975a0e",
   "metadata": {},
   "outputs": [
    {
     "data": {
      "text/html": [
       "<div>\n",
       "<style scoped>\n",
       "    .dataframe tbody tr th:only-of-type {\n",
       "        vertical-align: middle;\n",
       "    }\n",
       "\n",
       "    .dataframe tbody tr th {\n",
       "        vertical-align: top;\n",
       "    }\n",
       "\n",
       "    .dataframe thead th {\n",
       "        text-align: right;\n",
       "    }\n",
       "</style>\n",
       "<table border=\"1\" class=\"dataframe\">\n",
       "  <thead>\n",
       "    <tr style=\"text-align: right;\">\n",
       "      <th></th>\n",
       "      <th>Unnamed: 0</th>\n",
       "      <th>Time</th>\n",
       "      <th>Title</th>\n",
       "      <th>SubTitle</th>\n",
       "      <th>Declined Offer</th>\n",
       "      <th>Neutral Experience</th>\n",
       "      <th>Average Interview</th>\n",
       "      <th>Application</th>\n",
       "      <th>Interview</th>\n",
       "      <th>InterviewQuestions</th>\n",
       "      <th>date</th>\n",
       "    </tr>\n",
       "  </thead>\n",
       "  <tbody>\n",
       "    <tr>\n",
       "      <th>0</th>\n",
       "      <td>1</td>\n",
       "      <td>Apr 25, 2022</td>\n",
       "      <td>Senior Risk Manager Interview</td>\n",
       "      <td>Anonymous Employee</td>\n",
       "      <td>good</td>\n",
       "      <td>bad</td>\n",
       "      <td>bad</td>\n",
       "      <td>I interviewed at Citi</td>\n",
       "      <td>multi level interviews, done over zoom, with m...</td>\n",
       "      <td>Describe a difficult scenario you encountered ...</td>\n",
       "      <td>2022-04-25</td>\n",
       "    </tr>\n",
       "    <tr>\n",
       "      <th>1</th>\n",
       "      <td>2</td>\n",
       "      <td>Apr 25, 2022</td>\n",
       "      <td>Graduate Analyst Interview</td>\n",
       "      <td>Anonymous Employee in London, England</td>\n",
       "      <td>good</td>\n",
       "      <td>good</td>\n",
       "      <td>neutral</td>\n",
       "      <td>I applied online. I interviewed at Citi (Londo...</td>\n",
       "      <td>remote interview with no technical question. G...</td>\n",
       "      <td>Name a time you were project leader ?</td>\n",
       "      <td>2022-04-25</td>\n",
       "    </tr>\n",
       "    <tr>\n",
       "      <th>2</th>\n",
       "      <td>3</td>\n",
       "      <td>Apr 24, 2022</td>\n",
       "      <td>Investment Banking Associate Interview</td>\n",
       "      <td>Anonymous Interview Candidate in New York, NY</td>\n",
       "      <td>bad</td>\n",
       "      <td>good</td>\n",
       "      <td>neutral</td>\n",
       "      <td>I applied online. I interviewed at Citi (New Y...</td>\n",
       "      <td>1. Phone interview\\n2. Interview\\n - Two MDs i...</td>\n",
       "      <td>- Specific questions about my research\\n - Wha...</td>\n",
       "      <td>2022-04-24</td>\n",
       "    </tr>\n",
       "    <tr>\n",
       "      <th>3</th>\n",
       "      <td>4</td>\n",
       "      <td>Apr 23, 2022</td>\n",
       "      <td>VP-IT Interview</td>\n",
       "      <td>Anonymous Interview Candidate in Chennai</td>\n",
       "      <td>bad</td>\n",
       "      <td>neutral</td>\n",
       "      <td>neutral</td>\n",
       "      <td>I applied online. I interviewed at Citi (Chenn...</td>\n",
       "      <td>One round with 2 VPs and they never gave prope...</td>\n",
       "      <td>Project development management agile release m...</td>\n",
       "      <td>2022-04-23</td>\n",
       "    </tr>\n",
       "    <tr>\n",
       "      <th>4</th>\n",
       "      <td>5</td>\n",
       "      <td>Apr 22, 2022</td>\n",
       "      <td>Analyst Interview</td>\n",
       "      <td>Anonymous Interview Candidate in O Fallon, MO</td>\n",
       "      <td>bad</td>\n",
       "      <td>good</td>\n",
       "      <td>bad</td>\n",
       "      <td>I applied online. I interviewed at Citi (O Fal...</td>\n",
       "      <td>The interview was as Zoom meeting. There were ...</td>\n",
       "      <td>They asked me why I was the best candidate for...</td>\n",
       "      <td>2022-04-22</td>\n",
       "    </tr>\n",
       "  </tbody>\n",
       "</table>\n",
       "</div>"
      ],
      "text/plain": [
       "   Unnamed: 0          Time                                   Title  \\\n",
       "0           1  Apr 25, 2022           Senior Risk Manager Interview   \n",
       "1           2  Apr 25, 2022              Graduate Analyst Interview   \n",
       "2           3  Apr 24, 2022  Investment Banking Associate Interview   \n",
       "3           4  Apr 23, 2022                         VP-IT Interview   \n",
       "4           5  Apr 22, 2022                       Analyst Interview   \n",
       "\n",
       "                                        SubTitle Declined Offer  \\\n",
       "0                             Anonymous Employee           good   \n",
       "1          Anonymous Employee in London, England           good   \n",
       "2  Anonymous Interview Candidate in New York, NY            bad   \n",
       "3       Anonymous Interview Candidate in Chennai            bad   \n",
       "4  Anonymous Interview Candidate in O Fallon, MO            bad   \n",
       "\n",
       "  Neutral Experience Average Interview  \\\n",
       "0                bad               bad   \n",
       "1               good           neutral   \n",
       "2               good           neutral   \n",
       "3            neutral           neutral   \n",
       "4               good               bad   \n",
       "\n",
       "                                         Application  \\\n",
       "0                              I interviewed at Citi   \n",
       "1  I applied online. I interviewed at Citi (Londo...   \n",
       "2  I applied online. I interviewed at Citi (New Y...   \n",
       "3  I applied online. I interviewed at Citi (Chenn...   \n",
       "4  I applied online. I interviewed at Citi (O Fal...   \n",
       "\n",
       "                                           Interview  \\\n",
       "0  multi level interviews, done over zoom, with m...   \n",
       "1  remote interview with no technical question. G...   \n",
       "2  1. Phone interview\\n2. Interview\\n - Two MDs i...   \n",
       "3  One round with 2 VPs and they never gave prope...   \n",
       "4  The interview was as Zoom meeting. There were ...   \n",
       "\n",
       "                                  InterviewQuestions        date  \n",
       "0  Describe a difficult scenario you encountered ...  2022-04-25  \n",
       "1              Name a time you were project leader ?  2022-04-25  \n",
       "2  - Specific questions about my research\\n - Wha...  2022-04-24  \n",
       "3  Project development management agile release m...  2022-04-23  \n",
       "4  They asked me why I was the best candidate for...  2022-04-22  "
      ]
     },
     "execution_count": 6,
     "metadata": {},
     "output_type": "execute_result"
    }
   ],
   "source": [
    "data.head(5)"
   ]
  },
  {
   "cell_type": "code",
   "execution_count": 7,
   "id": "b74248ed",
   "metadata": {},
   "outputs": [
    {
     "data": {
      "text/plain": [
       "'multi level interviews, done over zoom, with many teams involved. Behavior interview questions, focused on how I approached scenarios. Focused on my skill set and experiences. Friendly interviewers, good feedback given during and after. Describe a difficult scenario you encountered and how you handled it?'"
      ]
     },
     "execution_count": 7,
     "metadata": {},
     "output_type": "execute_result"
    }
   ],
   "source": [
    "data['combined'] = data['Interview'] + ' ' +  data['InterviewQuestions']\n",
    "data.iloc[0].combined"
   ]
  },
  {
   "cell_type": "code",
   "execution_count": 8,
   "id": "8c259fa3",
   "metadata": {},
   "outputs": [],
   "source": [
    "data.loc[data.date <= '2019-12-31', 'period'] = 1\n",
    "data.loc[(data.date > '2019-12-31') & (data.date <= '2020-06-30'), 'period'] = 2\n",
    "data.loc[data.date > '2020-06-30', 'period'] = 3\n",
    "data['period_count'] = data.groupby('period')['date'].transform(lambda a: len(set(a)))"
   ]
  },
  {
   "cell_type": "markdown",
   "id": "f3ced8a0",
   "metadata": {},
   "source": [
    "#### Initialize data"
   ]
  },
  {
   "cell_type": "code",
   "execution_count": 9,
   "id": "c1074d03",
   "metadata": {},
   "outputs": [
    {
     "name": "stdout",
     "output_type": "stream",
     "text": [
      "<class 'pandas.core.frame.DataFrame'>\n",
      "RangeIndex: 61945 entries, 0 to 61944\n",
      "Data columns (total 14 columns):\n",
      " #   Column              Non-Null Count  Dtype  \n",
      "---  ------              --------------  -----  \n",
      " 0   Unnamed: 0          61945 non-null  int64  \n",
      " 1   Time                61945 non-null  object \n",
      " 2   Title               61945 non-null  object \n",
      " 3   SubTitle            61945 non-null  object \n",
      " 4   Declined Offer      61945 non-null  object \n",
      " 5   Neutral Experience  61945 non-null  object \n",
      " 6   Average Interview   61945 non-null  object \n",
      " 7   Application         61945 non-null  object \n",
      " 8   Interview           61945 non-null  object \n",
      " 9   InterviewQuestions  61913 non-null  object \n",
      " 10  date                61945 non-null  object \n",
      " 11  combined            61913 non-null  object \n",
      " 12  period              61945 non-null  float64\n",
      " 13  period_count        61945 non-null  int64  \n",
      "dtypes: float64(1), int64(2), object(11)\n",
      "memory usage: 6.6+ MB\n"
     ]
    }
   ],
   "source": [
    "data.info()"
   ]
  },
  {
   "cell_type": "code",
   "execution_count": 10,
   "id": "eec3762e",
   "metadata": {},
   "outputs": [
    {
     "data": {
      "text/plain": [
       "array([[<AxesSubplot:title={'center':'bad'}>,\n",
       "        <AxesSubplot:title={'center':'good'}>],\n",
       "       [<AxesSubplot:title={'center':'neutral'}>, <AxesSubplot:>]],\n",
       "      dtype=object)"
      ]
     },
     "execution_count": 10,
     "metadata": {},
     "output_type": "execute_result"
    },
    {
     "data": {
      "image/png": "[encoded data removed]",
      "text/plain": [
       "<Figure size 1152x576 with 4 Axes>"
      ]
     },
     "metadata": {
      "needs_background": "light"
     },
     "output_type": "display_data"
    }
   ],
   "source": [
    "data['length'] = data['Interview'].apply(len)\n",
    "data.hist(column='length',by='Declined Offer',bins=100, figsize=(16,8))"
   ]
  },
  {
   "cell_type": "code",
   "execution_count": 11,
   "id": "2b0032a4",
   "metadata": {},
   "outputs": [
    {
     "data": {
      "text/plain": [
       "Unnamed: 0             0\n",
       "Time                   0\n",
       "Title                  0\n",
       "SubTitle               0\n",
       "Declined Offer         0\n",
       "Neutral Experience     0\n",
       "Average Interview      0\n",
       "Application            0\n",
       "Interview              0\n",
       "InterviewQuestions    32\n",
       "date                   0\n",
       "combined              32\n",
       "period                 0\n",
       "period_count           0\n",
       "length                 0\n",
       "dtype: int64"
      ]
     },
     "execution_count": 11,
     "metadata": {},
     "output_type": "execute_result"
    }
   ],
   "source": [
    "# Checking null/missing values\n",
    "data.isnull().sum()"
   ]
  },
  {
   "cell_type": "code",
   "execution_count": 12,
   "id": "c98203f0",
   "metadata": {},
   "outputs": [
    {
     "data": {
      "text/plain": [
       "0        Describe a difficult scenario you encountered ...\n",
       "1                    Name a time you were project leader ?\n",
       "2        - Specific questions about my research\\n - Wha...\n",
       "3        Project development management agile release m...\n",
       "4        They asked me why I was the best candidate for...\n",
       "                               ...                        \n",
       "61940    What is the largest sale you have been involve...\n",
       "61941    Case Study: Analyze the current state of the h...\n",
       "61942    Do you think cloud computing will live up to t...\n",
       "61943        Describe a time when you failed at something.\n",
       "61944              Why did you choose your degree subject?\n",
       "Name: InterviewQuestions, Length: 61945, dtype: object"
      ]
     },
     "execution_count": 12,
     "metadata": {},
     "output_type": "execute_result"
    }
   ],
   "source": [
    "data.InterviewQuestions"
   ]
  },
  {
   "cell_type": "code",
   "execution_count": 13,
   "id": "70477a5d",
   "metadata": {},
   "outputs": [
    {
     "data": {
      "text/html": [
       "<div>\n",
       "<style scoped>\n",
       "    .dataframe tbody tr th:only-of-type {\n",
       "        vertical-align: middle;\n",
       "    }\n",
       "\n",
       "    .dataframe tbody tr th {\n",
       "        vertical-align: top;\n",
       "    }\n",
       "\n",
       "    .dataframe thead th {\n",
       "        text-align: right;\n",
       "    }\n",
       "</style>\n",
       "<table border=\"1\" class=\"dataframe\">\n",
       "  <thead>\n",
       "    <tr style=\"text-align: right;\">\n",
       "      <th></th>\n",
       "      <th>Unnamed: 0</th>\n",
       "      <th>Time</th>\n",
       "      <th>Title</th>\n",
       "      <th>SubTitle</th>\n",
       "      <th>Declined Offer</th>\n",
       "      <th>Neutral Experience</th>\n",
       "      <th>Average Interview</th>\n",
       "      <th>Application</th>\n",
       "      <th>Interview</th>\n",
       "      <th>InterviewQuestions</th>\n",
       "      <th>date</th>\n",
       "      <th>combined</th>\n",
       "      <th>period</th>\n",
       "      <th>period_count</th>\n",
       "      <th>length</th>\n",
       "    </tr>\n",
       "  </thead>\n",
       "  <tbody>\n",
       "    <tr>\n",
       "      <th>0</th>\n",
       "      <td>1</td>\n",
       "      <td>Apr 25, 2022</td>\n",
       "      <td>Senior Risk Manager Interview</td>\n",
       "      <td>Anonymous Employee</td>\n",
       "      <td>good</td>\n",
       "      <td>bad</td>\n",
       "      <td>bad</td>\n",
       "      <td>I interviewed at Citi</td>\n",
       "      <td>multi level interviews, done over zoom, with m...</td>\n",
       "      <td>Describe a difficult scenario you encountered ...</td>\n",
       "      <td>2022-04-25</td>\n",
       "      <td>multi level interviews, done over zoom, with m...</td>\n",
       "      <td>3.0</td>\n",
       "      <td>664</td>\n",
       "      <td>236</td>\n",
       "    </tr>\n",
       "    <tr>\n",
       "      <th>1</th>\n",
       "      <td>2</td>\n",
       "      <td>Apr 25, 2022</td>\n",
       "      <td>Graduate Analyst Interview</td>\n",
       "      <td>Anonymous Employee in London, England</td>\n",
       "      <td>good</td>\n",
       "      <td>good</td>\n",
       "      <td>neutral</td>\n",
       "      <td>I applied online. I interviewed at Citi (Londo...</td>\n",
       "      <td>remote interview with no technical question. G...</td>\n",
       "      <td>Name a time you were project leader ?</td>\n",
       "      <td>2022-04-25</td>\n",
       "      <td>remote interview with no technical question. G...</td>\n",
       "      <td>3.0</td>\n",
       "      <td>664</td>\n",
       "      <td>210</td>\n",
       "    </tr>\n",
       "    <tr>\n",
       "      <th>2</th>\n",
       "      <td>3</td>\n",
       "      <td>Apr 24, 2022</td>\n",
       "      <td>Investment Banking Associate Interview</td>\n",
       "      <td>Anonymous Interview Candidate in New York, NY</td>\n",
       "      <td>bad</td>\n",
       "      <td>good</td>\n",
       "      <td>neutral</td>\n",
       "      <td>I applied online. I interviewed at Citi (New Y...</td>\n",
       "      <td>1. Phone interview\\n2. Interview\\n - Two MDs i...</td>\n",
       "      <td>- Specific questions about my research\\n - Wha...</td>\n",
       "      <td>2022-04-24</td>\n",
       "      <td>1. Phone interview\\n2. Interview\\n - Two MDs i...</td>\n",
       "      <td>3.0</td>\n",
       "      <td>664</td>\n",
       "      <td>188</td>\n",
       "    </tr>\n",
       "    <tr>\n",
       "      <th>3</th>\n",
       "      <td>4</td>\n",
       "      <td>Apr 23, 2022</td>\n",
       "      <td>VP-IT Interview</td>\n",
       "      <td>Anonymous Interview Candidate in Chennai</td>\n",
       "      <td>bad</td>\n",
       "      <td>neutral</td>\n",
       "      <td>neutral</td>\n",
       "      <td>I applied online. I interviewed at Citi (Chenn...</td>\n",
       "      <td>One round with 2 VPs and they never gave prope...</td>\n",
       "      <td>Project development management agile release m...</td>\n",
       "      <td>2022-04-23</td>\n",
       "      <td>One round with 2 VPs and they never gave prope...</td>\n",
       "      <td>3.0</td>\n",
       "      <td>664</td>\n",
       "      <td>164</td>\n",
       "    </tr>\n",
       "    <tr>\n",
       "      <th>4</th>\n",
       "      <td>5</td>\n",
       "      <td>Apr 22, 2022</td>\n",
       "      <td>Analyst Interview</td>\n",
       "      <td>Anonymous Interview Candidate in O Fallon, MO</td>\n",
       "      <td>bad</td>\n",
       "      <td>good</td>\n",
       "      <td>bad</td>\n",
       "      <td>I applied online. I interviewed at Citi (O Fal...</td>\n",
       "      <td>The interview was as Zoom meeting. There were ...</td>\n",
       "      <td>They asked me why I was the best candidate for...</td>\n",
       "      <td>2022-04-22</td>\n",
       "      <td>The interview was as Zoom meeting. There were ...</td>\n",
       "      <td>3.0</td>\n",
       "      <td>664</td>\n",
       "      <td>197</td>\n",
       "    </tr>\n",
       "    <tr>\n",
       "      <th>...</th>\n",
       "      <td>...</td>\n",
       "      <td>...</td>\n",
       "      <td>...</td>\n",
       "      <td>...</td>\n",
       "      <td>...</td>\n",
       "      <td>...</td>\n",
       "      <td>...</td>\n",
       "      <td>...</td>\n",
       "      <td>...</td>\n",
       "      <td>...</td>\n",
       "      <td>...</td>\n",
       "      <td>...</td>\n",
       "      <td>...</td>\n",
       "      <td>...</td>\n",
       "      <td>...</td>\n",
       "    </tr>\n",
       "    <tr>\n",
       "      <th>61940</th>\n",
       "      <td>21354</td>\n",
       "      <td>Feb 23, 2011</td>\n",
       "      <td>Sales Coordinator Interview</td>\n",
       "      <td>Anonymous Interview Candidate in MISSING VALUE</td>\n",
       "      <td>bad</td>\n",
       "      <td>neutral</td>\n",
       "      <td>neutral</td>\n",
       "      <td>I applied online. The process took 4 weeks. I ...</td>\n",
       "      <td>Contacted for initial phone interview. Took th...</td>\n",
       "      <td>What is the largest sale you have been involve...</td>\n",
       "      <td>2011-02-23</td>\n",
       "      <td>Contacted for initial phone interview. Took th...</td>\n",
       "      <td>1.0</td>\n",
       "      <td>3773</td>\n",
       "      <td>501</td>\n",
       "    </tr>\n",
       "    <tr>\n",
       "      <th>61941</th>\n",
       "      <td>21355</td>\n",
       "      <td>Feb 21, 2011</td>\n",
       "      <td>Management Consulting Analyst Interview</td>\n",
       "      <td>Anonymous Interview Candidate in New York, NY</td>\n",
       "      <td>neutral</td>\n",
       "      <td>bad</td>\n",
       "      <td>good</td>\n",
       "      <td>I applied through an employee referral The pro...</td>\n",
       "      <td>Overall, the process was well run, however I w...</td>\n",
       "      <td>Case Study: Analyze the current state of the h...</td>\n",
       "      <td>2011-02-21</td>\n",
       "      <td>Overall, the process was well run, however I w...</td>\n",
       "      <td>1.0</td>\n",
       "      <td>3773</td>\n",
       "      <td>87</td>\n",
       "    </tr>\n",
       "    <tr>\n",
       "      <th>61942</th>\n",
       "      <td>21356</td>\n",
       "      <td>Feb 18, 2011</td>\n",
       "      <td>Manager Interview</td>\n",
       "      <td>Anonymous Employee in Los Angeles, CA</td>\n",
       "      <td>good</td>\n",
       "      <td>neutral</td>\n",
       "      <td>good</td>\n",
       "      <td>I applied through an employee referral The pro...</td>\n",
       "      <td>This was much more informal than you'd expect....</td>\n",
       "      <td>Do you think cloud computing will live up to t...</td>\n",
       "      <td>2011-02-18</td>\n",
       "      <td>This was much more informal than you'd expect....</td>\n",
       "      <td>1.0</td>\n",
       "      <td>3773</td>\n",
       "      <td>318</td>\n",
       "    </tr>\n",
       "    <tr>\n",
       "      <th>61943</th>\n",
       "      <td>21357</td>\n",
       "      <td>Feb 17, 2011</td>\n",
       "      <td>Financial Analyst Interview</td>\n",
       "      <td>Anonymous Interview Candidate in Reston, VA</td>\n",
       "      <td>bad</td>\n",
       "      <td>neutral</td>\n",
       "      <td>neutral</td>\n",
       "      <td>I applied online. The process took 3 weeks. I ...</td>\n",
       "      <td>I first had a phone screening with a recruiter...</td>\n",
       "      <td>Describe a time when you failed at something.</td>\n",
       "      <td>2011-02-17</td>\n",
       "      <td>I first had a phone screening with a recruiter...</td>\n",
       "      <td>1.0</td>\n",
       "      <td>3773</td>\n",
       "      <td>344</td>\n",
       "    </tr>\n",
       "    <tr>\n",
       "      <th>61944</th>\n",
       "      <td>21358</td>\n",
       "      <td>Feb 16, 2011</td>\n",
       "      <td>Consultant Interview</td>\n",
       "      <td>Anonymous Interview Candidate in London, England</td>\n",
       "      <td>bad</td>\n",
       "      <td>neutral</td>\n",
       "      <td>bad</td>\n",
       "      <td>I applied online. The process took 2 days. I i...</td>\n",
       "      <td>Initial Phone interview, followed by 1st round...</td>\n",
       "      <td>Why did you choose your degree subject?</td>\n",
       "      <td>2011-02-16</td>\n",
       "      <td>Initial Phone interview, followed by 1st round...</td>\n",
       "      <td>1.0</td>\n",
       "      <td>3773</td>\n",
       "      <td>250</td>\n",
       "    </tr>\n",
       "  </tbody>\n",
       "</table>\n",
       "<p>61945 rows × 15 columns</p>\n",
       "</div>"
      ],
      "text/plain": [
       "       Unnamed: 0          Time                                    Title  \\\n",
       "0               1  Apr 25, 2022            Senior Risk Manager Interview   \n",
       "1               2  Apr 25, 2022               Graduate Analyst Interview   \n",
       "2               3  Apr 24, 2022   Investment Banking Associate Interview   \n",
       "3               4  Apr 23, 2022                          VP-IT Interview   \n",
       "4               5  Apr 22, 2022                        Analyst Interview   \n",
       "...           ...           ...                                      ...   \n",
       "61940       21354  Feb 23, 2011              Sales Coordinator Interview   \n",
       "61941       21355  Feb 21, 2011  Management Consulting Analyst Interview   \n",
       "61942       21356  Feb 18, 2011                        Manager Interview   \n",
       "61943       21357  Feb 17, 2011              Financial Analyst Interview   \n",
       "61944       21358  Feb 16, 2011                     Consultant Interview   \n",
       "\n",
       "                                               SubTitle Declined Offer  \\\n",
       "0                                    Anonymous Employee           good   \n",
       "1                 Anonymous Employee in London, England           good   \n",
       "2         Anonymous Interview Candidate in New York, NY            bad   \n",
       "3              Anonymous Interview Candidate in Chennai            bad   \n",
       "4         Anonymous Interview Candidate in O Fallon, MO            bad   \n",
       "...                                                 ...            ...   \n",
       "61940    Anonymous Interview Candidate in MISSING VALUE            bad   \n",
       "61941     Anonymous Interview Candidate in New York, NY        neutral   \n",
       "61942             Anonymous Employee in Los Angeles, CA           good   \n",
       "61943       Anonymous Interview Candidate in Reston, VA            bad   \n",
       "61944  Anonymous Interview Candidate in London, England            bad   \n",
       "\n",
       "      Neutral Experience Average Interview  \\\n",
       "0                    bad               bad   \n",
       "1                   good           neutral   \n",
       "2                   good           neutral   \n",
       "3                neutral           neutral   \n",
       "4                   good               bad   \n",
       "...                  ...               ...   \n",
       "61940            neutral           neutral   \n",
       "61941                bad              good   \n",
       "61942            neutral              good   \n",
       "61943            neutral           neutral   \n",
       "61944            neutral               bad   \n",
       "\n",
       "                                             Application  \\\n",
       "0                                  I interviewed at Citi   \n",
       "1      I applied online. I interviewed at Citi (Londo...   \n",
       "2      I applied online. I interviewed at Citi (New Y...   \n",
       "3      I applied online. I interviewed at Citi (Chenn...   \n",
       "4      I applied online. I interviewed at Citi (O Fal...   \n",
       "...                                                  ...   \n",
       "61940  I applied online. The process took 4 weeks. I ...   \n",
       "61941  I applied through an employee referral The pro...   \n",
       "61942  I applied through an employee referral The pro...   \n",
       "61943  I applied online. The process took 3 weeks. I ...   \n",
       "61944  I applied online. The process took 2 days. I i...   \n",
       "\n",
       "                                               Interview  \\\n",
       "0      multi level interviews, done over zoom, with m...   \n",
       "1      remote interview with no technical question. G...   \n",
       "2      1. Phone interview\\n2. Interview\\n - Two MDs i...   \n",
       "3      One round with 2 VPs and they never gave prope...   \n",
       "4      The interview was as Zoom meeting. There were ...   \n",
       "...                                                  ...   \n",
       "61940  Contacted for initial phone interview. Took th...   \n",
       "61941  Overall, the process was well run, however I w...   \n",
       "61942  This was much more informal than you'd expect....   \n",
       "61943  I first had a phone screening with a recruiter...   \n",
       "61944  Initial Phone interview, followed by 1st round...   \n",
       "\n",
       "                                      InterviewQuestions        date  \\\n",
       "0      Describe a difficult scenario you encountered ...  2022-04-25   \n",
       "1                  Name a time you were project leader ?  2022-04-25   \n",
       "2      - Specific questions about my research\\n - Wha...  2022-04-24   \n",
       "3      Project development management agile release m...  2022-04-23   \n",
       "4      They asked me why I was the best candidate for...  2022-04-22   \n",
       "...                                                  ...         ...   \n",
       "61940  What is the largest sale you have been involve...  2011-02-23   \n",
       "61941  Case Study: Analyze the current state of the h...  2011-02-21   \n",
       "61942  Do you think cloud computing will live up to t...  2011-02-18   \n",
       "61943      Describe a time when you failed at something.  2011-02-17   \n",
       "61944            Why did you choose your degree subject?  2011-02-16   \n",
       "\n",
       "                                                combined  period  \\\n",
       "0      multi level interviews, done over zoom, with m...     3.0   \n",
       "1      remote interview with no technical question. G...     3.0   \n",
       "2      1. Phone interview\\n2. Interview\\n - Two MDs i...     3.0   \n",
       "3      One round with 2 VPs and they never gave prope...     3.0   \n",
       "4      The interview was as Zoom meeting. There were ...     3.0   \n",
       "...                                                  ...     ...   \n",
       "61940  Contacted for initial phone interview. Took th...     1.0   \n",
       "61941  Overall, the process was well run, however I w...     1.0   \n",
       "61942  This was much more informal than you'd expect....     1.0   \n",
       "61943  I first had a phone screening with a recruiter...     1.0   \n",
       "61944  Initial Phone interview, followed by 1st round...     1.0   \n",
       "\n",
       "       period_count  length  \n",
       "0               664     236  \n",
       "1               664     210  \n",
       "2               664     188  \n",
       "3               664     164  \n",
       "4               664     197  \n",
       "...             ...     ...  \n",
       "61940          3773     501  \n",
       "61941          3773      87  \n",
       "61942          3773     318  \n",
       "61943          3773     344  \n",
       "61944          3773     250  \n",
       "\n",
       "[61945 rows x 15 columns]"
      ]
     },
     "execution_count": 13,
     "metadata": {},
     "output_type": "execute_result"
    }
   ],
   "source": [
    "data = data.fillna(\"\")\n",
    "data"
   ]
  },
  {
   "cell_type": "markdown",
   "id": "349fe087",
   "metadata": {},
   "source": [
    "In fact, the two texts in this experiment were not exactly equal; their ratio was 2:1. But this is the case where I've combined two data sources, and I think that's enough."
   ]
  },
  {
   "cell_type": "markdown",
   "id": "640f9efe",
   "metadata": {},
   "source": [
    "#### Preprocess data"
   ]
  },
  {
   "cell_type": "code",
   "execution_count": 14,
   "id": "644f3cd8",
   "metadata": {},
   "outputs": [],
   "source": [
    "# Removing Punctutaion\n",
    "def clean1(text):\n",
    "    words = []\n",
    "    for word in text:\n",
    "        if word not in string.punctuation:\n",
    "            words.append(word)\n",
    "    output= \"\".join(words)\n",
    "    return output"
   ]
  },
  {
   "cell_type": "code",
   "execution_count": 15,
   "id": "771b170e",
   "metadata": {},
   "outputs": [],
   "source": [
    "# Tokenizing\n",
    "def clean3(text):\n",
    "    split=re.split(\"\\W+\",text) \n",
    "    return split"
   ]
  },
  {
   "cell_type": "code",
   "execution_count": 16,
   "id": "797fd4d1",
   "metadata": {},
   "outputs": [],
   "source": [
    "# Removing Stopwords\n",
    "stopword = set(stopwords.words('english'))\n",
    "stopword.add('interview')\n",
    "stopword.add('question')\n",
    "stopword.add('the')\n",
    "stopword.add('i')\n",
    "stopword.add('recruiter')\n",
    "def clean2(text):\n",
    "    return \" \".join([word for word in str(text).split() if word not in stopword])"
   ]
  },
  {
   "cell_type": "code",
   "execution_count": 17,
   "id": "74e7aad9",
   "metadata": {},
   "outputs": [],
   "source": [
    "# Tokenizing\n",
    "def clean3(text):\n",
    "    split=re.split(\"\\W+\",text) \n",
    "    return split"
   ]
  },
  {
   "cell_type": "code",
   "execution_count": 18,
   "id": "01947680",
   "metadata": {},
   "outputs": [],
   "source": [
    "# Lemmatizing\n",
    "'''In order to avoid that the different parts of speech of the \n",
    "same word will disturb our analysis, we need to restore their form.'''\n",
    "lemmatizer = WordNetLemmatizer()\n",
    "def lemmatize_words(text):\n",
    "    return \" \".join([lemmatizer.lemmatize(word) for word in text])"
   ]
  },
  {
   "cell_type": "code",
   "execution_count": 19,
   "id": "d1578345",
   "metadata": {},
   "outputs": [
    {
     "data": {
      "text/plain": [
       "'multi level interviews, done over zoom, with many teams involved. Behavior interview questions, focused on how I approached scenarios. Focused on my skill set and experiences. Friendly interviewers, good feedback given during and after. Describe a difficult scenario you encountered and how you handled it?'"
      ]
     },
     "execution_count": 19,
     "metadata": {},
     "output_type": "execute_result"
    }
   ],
   "source": [
    "data[\"combined\"][0]"
   ]
  },
  {
   "cell_type": "code",
   "execution_count": 20,
   "id": "d54ddfcd",
   "metadata": {},
   "outputs": [],
   "source": [
    "combined1 = data[data[\"period\"] == 1][\"combined\"]\n",
    "combined2 = data[data[\"period\"] == 2][\"combined\"]\n",
    "combined3 = data[data[\"period\"] == 3][\"combined\"]"
   ]
  },
  {
   "cell_type": "code",
   "execution_count": 21,
   "id": "a3fcd1ab",
   "metadata": {},
   "outputs": [
    {
     "data": {
      "text/plain": [
       "1630     3773\n",
       "1631     3773\n",
       "1632     3773\n",
       "1633     3773\n",
       "1634     3773\n",
       "         ... \n",
       "61940    3773\n",
       "61941    3773\n",
       "61942    3773\n",
       "61943    3773\n",
       "61944    3773\n",
       "Name: period_count, Length: 43027, dtype: int64"
      ]
     },
     "execution_count": 21,
     "metadata": {},
     "output_type": "execute_result"
    }
   ],
   "source": [
    "data[data[\"period\"] == 1][\"period_count\"]"
   ]
  },
  {
   "cell_type": "code",
   "execution_count": 22,
   "id": "88778e9d",
   "metadata": {},
   "outputs": [
    {
     "data": {
      "text/plain": [
       "1454     182\n",
       "1455     182\n",
       "1456     182\n",
       "1457     182\n",
       "1458     182\n",
       "        ... \n",
       "49054    182\n",
       "49055    182\n",
       "49056    182\n",
       "49057    182\n",
       "49058    182\n",
       "Name: period_count, Length: 1616, dtype: int64"
      ]
     },
     "execution_count": 22,
     "metadata": {},
     "output_type": "execute_result"
    }
   ],
   "source": [
    "data[data[\"period\"] == 2][\"period_count\"]"
   ]
  },
  {
   "cell_type": "code",
   "execution_count": 23,
   "id": "65f164fb",
   "metadata": {},
   "outputs": [
    {
     "data": {
      "text/plain": [
       "0        664\n",
       "1        664\n",
       "2        664\n",
       "3        664\n",
       "4        664\n",
       "        ... \n",
       "48399    664\n",
       "48400    664\n",
       "48401    664\n",
       "48402    664\n",
       "48403    664\n",
       "Name: period_count, Length: 17302, dtype: int64"
      ]
     },
     "execution_count": 23,
     "metadata": {},
     "output_type": "execute_result"
    }
   ],
   "source": [
    "data[data[\"period\"] == 3][\"period_count\"]"
   ]
  },
  {
   "cell_type": "code",
   "execution_count": 24,
   "id": "99fbb576",
   "metadata": {},
   "outputs": [],
   "source": [
    "period1count=3773\n",
    "period2count=182\n",
    "period3count=664"
   ]
  },
  {
   "cell_type": "code",
   "execution_count": 25,
   "id": "6ac2ecd8",
   "metadata": {},
   "outputs": [],
   "source": [
    "def dataprocessing(target):\n",
    "    target = target.apply(lambda x: clean1(x))\n",
    "    target = target.apply(lambda x: clean3(x))\n",
    "    target = target.apply(lambda x: clean2(x))\n",
    "    target = target.apply(lambda x: clean3(x))\n",
    "    target = target.apply(lambda text: lemmatize_words(text))\n",
    "    output = \" \".join(target.tolist())\n",
    "    return output"
   ]
  },
  {
   "cell_type": "code",
   "execution_count": 26,
   "id": "74130774",
   "metadata": {},
   "outputs": [],
   "source": [
    "period1combined = dataprocessing(combined1)\n",
    "period2combined = dataprocessing(combined2)\n",
    "period3combined = dataprocessing(combined3)"
   ]
  },
  {
   "cell_type": "code",
   "execution_count": 27,
   "id": "9aa2b923",
   "metadata": {},
   "outputs": [],
   "source": [
    "# Finding most repeated words in the data\n",
    "def top_words(text,words,count):\n",
    "    allWords = nltk.tokenize.word_tokenize(text)\n",
    "    stopwords = nltk.corpus.stopwords.words('english')\n",
    "    stopwords = set(stopwords)\n",
    "    appendlist = {\"the\",\"i\",'interviewer',\"interview\",\"wa\",\"recruiter\",\"process\",\"question\",\"one\",\"would\",\"1\",'2','3','4','5','6','asked','got','hr'}\n",
    "    stopwords.update(appendlist)\n",
    "    allWordExceptStopDist = nltk.FreqDist([w.lower() for w in allWords if w.lower() not in list(stopwords)])   \n",
    "    mostCommontuples= allWordExceptStopDist.most_common(words)\n",
    "    mostCommon = [(tupl[0],round(tupl[1]/count,2)) for tupl in mostCommontuples]\n",
    "    return mostCommon"
   ]
  },
  {
   "cell_type": "markdown",
   "id": "f77adee8",
   "metadata": {},
   "source": [
    "#### High frequency words for different kinds of situations"
   ]
  },
  {
   "cell_type": "code",
   "execution_count": 28,
   "id": "6aec2846",
   "metadata": {},
   "outputs": [],
   "source": [
    "type1p1 = top_words(period1combined,100,period1count)"
   ]
  },
  {
   "cell_type": "code",
   "execution_count": 29,
   "id": "f3f3f461",
   "metadata": {},
   "outputs": [],
   "source": [
    "type1p2 = top_words(period2combined,100,period2count)"
   ]
  },
  {
   "cell_type": "code",
   "execution_count": 30,
   "id": "2450b3ec",
   "metadata": {},
   "outputs": [],
   "source": [
    "type1p3 = top_words(period2combined,100,period3count)"
   ]
  },
  {
   "cell_type": "code",
   "execution_count": 31,
   "id": "286edc73",
   "metadata": {},
   "outputs": [],
   "source": [
    "def foundchange(list1,list2):\n",
    "    output = {}\n",
    "    for word1 in list1:\n",
    "        for word2 in list2:\n",
    "            if word1[0] == word2[0]:\n",
    "                percentchange = round(word2[1]/word1[1] - 1,2)\n",
    "                if percentchange >= 0.2 or percentchange <= -0.4:\n",
    "                    output[word1[0]] = percentchange\n",
    "    return output"
   ]
  },
  {
   "cell_type": "code",
   "execution_count": 32,
   "id": "86c728ee",
   "metadata": {},
   "outputs": [],
   "source": [
    "def standard(lst,aimdic):\n",
    "    output = {}\n",
    "    total = []\n",
    "    for word in aimdic.keys():\n",
    "        for word1 in lst:\n",
    "            if word1[0] == word:\n",
    "                total.append(word1[1])\n",
    "    average = sum(total) / len(total)\n",
    "    for word in aimdic.keys():\n",
    "        for word1 in lst:\n",
    "            if word1[0] == word:\n",
    "                output[word] = round(word1[1]/average,2)\n",
    "    return output"
   ]
  },
  {
   "cell_type": "code",
   "execution_count": 33,
   "id": "cc0fc99f",
   "metadata": {},
   "outputs": [],
   "source": [
    "def foundchangeforp2to3(aimdic2,aimdic3):\n",
    "    output = {}\n",
    "    for word2 in aimdic2.keys():\n",
    "        for word3 in aimdic3.keys():\n",
    "            if word2 == word3:\n",
    "                output[word2] = round((aimdic3[word2])/(aimdic2[word2])-1,2)\n",
    "    return output"
   ]
  },
  {
   "cell_type": "code",
   "execution_count": 34,
   "id": "1273e09c",
   "metadata": {},
   "outputs": [
    {
     "name": "stdout",
     "output_type": "stream",
     "text": [
      "{'phone': -0.46, 'manager': -0.51, 'week': -0.58, 'two': -0.4, 'job': -0.48, 'work': -0.41, 'position': -0.57, 'applied': -0.41, 'group': -0.51, 'people': -0.42, 'get': -0.4, 'later': -0.57, 'back': -0.48, 'minute': -0.46, 'email': -0.4, 'went': -0.53, 'received': -0.46, 'face': -0.44, 'customer': -0.63, 'hour': -0.47, 'want': -0.48, 'difficult': -0.52, 'called': -0.53, 'interviewed': -0.5, 'make': -0.44, 'background': -0.44, 'really': -0.43, 'told': -0.45, '30': -0.45, 'three': -0.47, 'take': -0.41, 'another': -0.46, 'go': -0.44, 'didnt': -0.46, 'long': -0.43, 'etc': -0.42, 'de': 1.32}\n"
     ]
    }
   ],
   "source": [
    "change1 = foundchange(type1p1,type1p2)\n",
    "print(change1)"
   ]
  },
  {
   "cell_type": "code",
   "execution_count": 35,
   "id": "719d946e",
   "metadata": {},
   "outputs": [],
   "source": [
    "stand1 = standard(type1p2,foundchange(type1p1,type1p2))"
   ]
  },
  {
   "cell_type": "code",
   "execution_count": 36,
   "id": "6080955b",
   "metadata": {},
   "outputs": [],
   "source": [
    "stand2 = standard(type1p3,foundchange(type1p1,type1p2))"
   ]
  },
  {
   "cell_type": "code",
   "execution_count": 37,
   "id": "1ad7b442",
   "metadata": {},
   "outputs": [],
   "source": [
    "change2 = foundchangeforp2to3(standard(type1p2,foundchange(type1p1,type1p2)),standard(type1p3,foundchange(type1p1,type1p2)))"
   ]
  },
  {
   "cell_type": "code",
   "execution_count": 38,
   "id": "fa5f3719",
   "metadata": {},
   "outputs": [],
   "source": [
    "relatedword = ['position','group','customer','job']"
   ]
  },
  {
   "cell_type": "code",
   "execution_count": 39,
   "id": "5bed9731",
   "metadata": {},
   "outputs": [],
   "source": [
    "def preplot(wordlist,changep1,changep2,intialfrequent):\n",
    "    output = {}\n",
    "    for word in wordlist:\n",
    "        for word1 in intialfrequent:\n",
    "            if word == word1[0]:\n",
    "                initial = word1[1]\n",
    "                p2 = round(initial * (changep1[word]+1),2)\n",
    "                p3 = round(p2 * (changep2[word]+1),2)\n",
    "                output[word] = [initial, p2, p3]\n",
    "    return output"
   ]
  },
  {
   "cell_type": "code",
   "execution_count": 40,
   "id": "c54be200",
   "metadata": {},
   "outputs": [
    {
     "data": {
      "text/plain": [
       "{'position': [2.14, 0.92, 0.92],\n",
       " 'group': [1.86, 0.91, 0.91],\n",
       " 'customer': [1.3, 0.48, 0.47],\n",
       " 'job': [2.46, 1.28, 1.28]}"
      ]
     },
     "execution_count": 40,
     "metadata": {},
     "output_type": "execute_result"
    }
   ],
   "source": [
    "preplot(relatedword,change1,change2,type1p1)"
   ]
  },
  {
   "cell_type": "code",
   "execution_count": 41,
   "id": "ec30f6ca",
   "metadata": {},
   "outputs": [],
   "source": [
    "period = [\"before 2019-12-31\",\"2019-12-31 to 2020-06-30\", \"after 2020-06-30\"]"
   ]
  },
  {
   "cell_type": "code",
   "execution_count": 42,
   "id": "961703a8",
   "metadata": {},
   "outputs": [],
   "source": [
    "def plot(preplot,period):\n",
    "    for word,change in preplot.items():\n",
    "        plt.plot(period,change,label=word)\n",
    "    plt.title('Word changes')\n",
    "    plt.xlabel('period')\n",
    "    plt.ylabel('frequency/day')\n",
    "    plt.legend()"
   ]
  },
  {
   "cell_type": "code",
   "execution_count": 43,
   "id": "b0323676",
   "metadata": {},
   "outputs": [
    {
     "data": {
      "image/png": "[encoded data removed]",
      "text/plain": [
       "<Figure size 432x288 with 1 Axes>"
      ]
     },
     "metadata": {
      "needs_background": "light"
     },
     "output_type": "display_data"
    }
   ],
   "source": [
    "plot(preplot(relatedword,change1,change2,type1p1),period)"
   ]
  }
 ],
 "metadata": {
  "kernelspec": {
   "display_name": "Python 3",
   "language": "python",
   "name": "python3"
  },
  "language_info": {
   "codemirror_mode": {
    "name": "ipython",
    "version": 3
   },
   "file_extension": ".py",
   "mimetype": "text/x-python",
   "name": "python",
   "nbconvert_exporter": "python",
   "pygments_lexer": "ipython3",
   "version": "3.8.8"
  }
 },
 "nbformat": 4,
 "nbformat_minor": 5
}
