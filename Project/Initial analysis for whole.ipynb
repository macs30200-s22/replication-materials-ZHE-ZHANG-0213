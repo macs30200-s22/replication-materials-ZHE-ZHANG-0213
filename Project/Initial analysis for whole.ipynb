{
 "cells": [
  {
   "cell_type": "code",
   "execution_count": 2,
   "id": "fd4a7362",
   "metadata": {},
   "outputs": [],
   "source": [
    "# import the packages used for analysis\n",
    "import nltk\n",
    "import pandas as pd\n",
    "import numpy as np\n",
    "import string\n",
    "import regex as re\n",
    "\n",
    "import matplotlib.pyplot as plt\n",
    "from nltk.corpus import stopwords\n",
    "from nltk.stem import WordNetLemmatizer\n",
    "from wordcloud import WordCloud, STOPWORDS\n",
    "from sklearn.neighbors import KNeighborsClassifier\n",
    "from sklearn.model_selection import train_test_split\n",
    "from sklearn.feature_extraction.text import TfidfVectorizer\n",
    "from sklearn.metrics import accuracy_score, recall_score\n",
    "from sklearn.metrics import classification_report\n",
    "from sklearn.ensemble import RandomForestClassifier\n",
    "from sklearn.naive_bayes import MultinomialNB\n",
    "from sklearn import feature_extraction, model_selection, metrics, svm"
   ]
  },
  {
   "cell_type": "code",
   "execution_count": 43,
   "id": "11f05a8e",
   "metadata": {},
   "outputs": [
    {
     "data": {
      "text/plain": [
       "<Figure size 640x480 with 0 Axes>"
      ]
     },
     "execution_count": 43,
     "metadata": {},
     "output_type": "execute_result"
    },
    {
     "data": {
      "text/plain": [
       "<Figure size 640x480 with 0 Axes>"
      ]
     },
     "metadata": {},
     "output_type": "display_data"
    }
   ],
   "source": [
    "import datetime\n",
    "import spacy\n",
    "import math\n",
    "from matplotlib.pyplot import figure\n",
    "figure(figsize=(8, 6), dpi=80)"
   ]
  },
  {
   "cell_type": "code",
   "execution_count": 4,
   "id": "6f7479f4",
   "metadata": {},
   "outputs": [],
   "source": [
    "data = pd.read_csv('whole.csv')      # reading data"
   ]
  },
  {
   "cell_type": "code",
   "execution_count": 5,
   "id": "dd975a0e",
   "metadata": {},
   "outputs": [
    {
     "data": {
      "text/html": [
       "<div>\n",
       "<style scoped>\n",
       "    .dataframe tbody tr th:only-of-type {\n",
       "        vertical-align: middle;\n",
       "    }\n",
       "\n",
       "    .dataframe tbody tr th {\n",
       "        vertical-align: top;\n",
       "    }\n",
       "\n",
       "    .dataframe thead th {\n",
       "        text-align: right;\n",
       "    }\n",
       "</style>\n",
       "<table border=\"1\" class=\"dataframe\">\n",
       "  <thead>\n",
       "    <tr style=\"text-align: right;\">\n",
       "      <th></th>\n",
       "      <th>Unnamed: 0</th>\n",
       "      <th>Time</th>\n",
       "      <th>Title</th>\n",
       "      <th>SubTitle</th>\n",
       "      <th>Declined Offer</th>\n",
       "      <th>Neutral Experience</th>\n",
       "      <th>Average Interview</th>\n",
       "      <th>Application</th>\n",
       "      <th>Interview</th>\n",
       "      <th>InterviewQuestions</th>\n",
       "      <th>date</th>\n",
       "    </tr>\n",
       "  </thead>\n",
       "  <tbody>\n",
       "    <tr>\n",
       "      <th>0</th>\n",
       "      <td>1</td>\n",
       "      <td>Apr 22, 2022</td>\n",
       "      <td>Legal Counsel Interview</td>\n",
       "      <td>Anonymous Interview Candidate</td>\n",
       "      <td>bad</td>\n",
       "      <td>neutral</td>\n",
       "      <td>neutral</td>\n",
       "      <td>I interviewed at Comcast</td>\n",
       "      <td>Multi-step interview process with long lulls b...</td>\n",
       "      <td>Behavioral questions and questions regarding m...</td>\n",
       "      <td>2022-04-22 00:00:00</td>\n",
       "    </tr>\n",
       "    <tr>\n",
       "      <th>1</th>\n",
       "      <td>2</td>\n",
       "      <td>Apr 21, 2022</td>\n",
       "      <td>Software Engineer Interview</td>\n",
       "      <td>Anonymous Interview Candidate</td>\n",
       "      <td>bad</td>\n",
       "      <td>bad</td>\n",
       "      <td>neutral</td>\n",
       "      <td>I interviewed at Comcast</td>\n",
       "      <td>The interview was conducted online. 2 rounds w...</td>\n",
       "      <td>Describe many to many relationship in a database.</td>\n",
       "      <td>2022-04-21 00:00:00</td>\n",
       "    </tr>\n",
       "    <tr>\n",
       "      <th>2</th>\n",
       "      <td>3</td>\n",
       "      <td>Apr 21, 2022</td>\n",
       "      <td>Customer Account Manager Interview</td>\n",
       "      <td>Anonymous Employee in Abington, PA</td>\n",
       "      <td>good</td>\n",
       "      <td>bad</td>\n",
       "      <td>good</td>\n",
       "      <td>I applied through a recruiter. The process too...</td>\n",
       "      <td>Initial online screening, phone screen with re...</td>\n",
       "      <td>Provide an example you overcame adversity</td>\n",
       "      <td>2022-04-21 00:00:00</td>\n",
       "    </tr>\n",
       "    <tr>\n",
       "      <th>3</th>\n",
       "      <td>4</td>\n",
       "      <td>Apr 18, 2022</td>\n",
       "      <td>Digital Marketer Interview</td>\n",
       "      <td>Anonymous Interview Candidate</td>\n",
       "      <td>neutral</td>\n",
       "      <td>neutral</td>\n",
       "      <td>neutral</td>\n",
       "      <td>I interviewed at Comcast</td>\n",
       "      <td>The interview process was pretty standard real...</td>\n",
       "      <td>What have you done before that is similar to w...</td>\n",
       "      <td>2022-04-18 00:00:00</td>\n",
       "    </tr>\n",
       "    <tr>\n",
       "      <th>4</th>\n",
       "      <td>5</td>\n",
       "      <td>Apr 14, 2022</td>\n",
       "      <td>Customer Onboarding Specialist Interview</td>\n",
       "      <td>Anonymous Interview Candidate in Houston, TX</td>\n",
       "      <td>bad</td>\n",
       "      <td>bad</td>\n",
       "      <td>neutral</td>\n",
       "      <td>I applied online. The process took 4 weeks. I ...</td>\n",
       "      <td>Applied online received assessment, received c...</td>\n",
       "      <td>What’s a time you had a customer upset and you...</td>\n",
       "      <td>2022-04-14 00:00:00</td>\n",
       "    </tr>\n",
       "  </tbody>\n",
       "</table>\n",
       "</div>"
      ],
      "text/plain": [
       "   Unnamed: 0          Time                                     Title  \\\n",
       "0           1  Apr 22, 2022                   Legal Counsel Interview   \n",
       "1           2  Apr 21, 2022               Software Engineer Interview   \n",
       "2           3  Apr 21, 2022        Customer Account Manager Interview   \n",
       "3           4  Apr 18, 2022                Digital Marketer Interview   \n",
       "4           5  Apr 14, 2022  Customer Onboarding Specialist Interview   \n",
       "\n",
       "                                       SubTitle Declined Offer  \\\n",
       "0                 Anonymous Interview Candidate            bad   \n",
       "1                 Anonymous Interview Candidate            bad   \n",
       "2            Anonymous Employee in Abington, PA           good   \n",
       "3                 Anonymous Interview Candidate        neutral   \n",
       "4  Anonymous Interview Candidate in Houston, TX            bad   \n",
       "\n",
       "  Neutral Experience Average Interview  \\\n",
       "0            neutral           neutral   \n",
       "1                bad           neutral   \n",
       "2                bad              good   \n",
       "3            neutral           neutral   \n",
       "4                bad           neutral   \n",
       "\n",
       "                                         Application  \\\n",
       "0                           I interviewed at Comcast   \n",
       "1                           I interviewed at Comcast   \n",
       "2  I applied through a recruiter. The process too...   \n",
       "3                           I interviewed at Comcast   \n",
       "4  I applied online. The process took 4 weeks. I ...   \n",
       "\n",
       "                                           Interview  \\\n",
       "0  Multi-step interview process with long lulls b...   \n",
       "1  The interview was conducted online. 2 rounds w...   \n",
       "2  Initial online screening, phone screen with re...   \n",
       "3  The interview process was pretty standard real...   \n",
       "4  Applied online received assessment, received c...   \n",
       "\n",
       "                                  InterviewQuestions                 date  \n",
       "0  Behavioral questions and questions regarding m...  2022-04-22 00:00:00  \n",
       "1  Describe many to many relationship in a database.  2022-04-21 00:00:00  \n",
       "2          Provide an example you overcame adversity  2022-04-21 00:00:00  \n",
       "3  What have you done before that is similar to w...  2022-04-18 00:00:00  \n",
       "4  What’s a time you had a customer upset and you...  2022-04-14 00:00:00  "
      ]
     },
     "execution_count": 5,
     "metadata": {},
     "output_type": "execute_result"
    }
   ],
   "source": [
    "data.head(5)"
   ]
  },
  {
   "cell_type": "code",
   "execution_count": 6,
   "id": "b74248ed",
   "metadata": {},
   "outputs": [
    {
     "data": {
      "text/plain": [
       "'Multi-step interview process with long lulls between the interviews. The interviews were more substantive as I progressing in the process. The initial interview was simply a screener with human resources. Behavioral questions and questions regarding my experience.'"
      ]
     },
     "execution_count": 6,
     "metadata": {},
     "output_type": "execute_result"
    }
   ],
   "source": [
    "data['combined'] = data['Interview'] + ' ' +  data['InterviewQuestions']\n",
    "data.iloc[0].combined"
   ]
  },
  {
   "cell_type": "code",
   "execution_count": 7,
   "id": "8c259fa3",
   "metadata": {},
   "outputs": [],
   "source": [
    "data.loc[data.date <= '2019-12-31', 'period'] = 1\n",
    "data.loc[(data.date > '2019-12-31') & (data.date <= '2020-06-30'), 'period'] = 2\n",
    "data.loc[data.date > '2020-06-30', 'period'] = 3\n",
    "data['period_count'] = data.groupby('period')['date'].transform(lambda a: len(set(a)))"
   ]
  },
  {
   "cell_type": "markdown",
   "id": "f3ced8a0",
   "metadata": {},
   "source": [
    "#### Initialize data"
   ]
  },
  {
   "cell_type": "code",
   "execution_count": 8,
   "id": "c1074d03",
   "metadata": {},
   "outputs": [
    {
     "name": "stdout",
     "output_type": "stream",
     "text": [
      "<class 'pandas.core.frame.DataFrame'>\n",
      "RangeIndex: 159667 entries, 0 to 159666\n",
      "Data columns (total 14 columns):\n",
      " #   Column              Non-Null Count   Dtype  \n",
      "---  ------              --------------   -----  \n",
      " 0   Unnamed: 0          159667 non-null  int64  \n",
      " 1   Time                159667 non-null  object \n",
      " 2   Title               159667 non-null  object \n",
      " 3   SubTitle            159667 non-null  object \n",
      " 4   Declined Offer      159667 non-null  object \n",
      " 5   Neutral Experience  159667 non-null  object \n",
      " 6   Average Interview   159667 non-null  object \n",
      " 7   Application         159667 non-null  object \n",
      " 8   Interview           159667 non-null  object \n",
      " 9   InterviewQuestions  159598 non-null  object \n",
      " 10  date                159667 non-null  object \n",
      " 11  combined            159598 non-null  object \n",
      " 12  period              159667 non-null  float64\n",
      " 13  period_count        159667 non-null  int64  \n",
      "dtypes: float64(1), int64(2), object(11)\n",
      "memory usage: 17.1+ MB\n"
     ]
    }
   ],
   "source": [
    "data.info()"
   ]
  },
  {
   "cell_type": "code",
   "execution_count": 9,
   "id": "eec3762e",
   "metadata": {},
   "outputs": [
    {
     "data": {
      "text/plain": [
       "array([[<AxesSubplot:title={'center':'bad'}>,\n",
       "        <AxesSubplot:title={'center':'good'}>],\n",
       "       [<AxesSubplot:title={'center':'neutral'}>, <AxesSubplot:>]],\n",
       "      dtype=object)"
      ]
     },
     "execution_count": 9,
     "metadata": {},
     "output_type": "execute_result"
    },
    {
     "data": {
      "image/png": "[encoded data removed]",
      "text/plain": [
       "<Figure size 1152x576 with 4 Axes>"
      ]
     },
     "metadata": {
      "needs_background": "light"
     },
     "output_type": "display_data"
    }
   ],
   "source": [
    "data['length'] = data['Interview'].apply(len)\n",
    "data.hist(column='length',by='Declined Offer',bins=100, figsize=(16,8))"
   ]
  },
  {
   "cell_type": "code",
   "execution_count": 10,
   "id": "2b0032a4",
   "metadata": {},
   "outputs": [
    {
     "data": {
      "text/plain": [
       "Unnamed: 0             0\n",
       "Time                   0\n",
       "Title                  0\n",
       "SubTitle               0\n",
       "Declined Offer         0\n",
       "Neutral Experience     0\n",
       "Average Interview      0\n",
       "Application            0\n",
       "Interview              0\n",
       "InterviewQuestions    69\n",
       "date                   0\n",
       "combined              69\n",
       "period                 0\n",
       "period_count           0\n",
       "length                 0\n",
       "dtype: int64"
      ]
     },
     "execution_count": 10,
     "metadata": {},
     "output_type": "execute_result"
    }
   ],
   "source": [
    "# Checking null/missing values\n",
    "data.isnull().sum()"
   ]
  },
  {
   "cell_type": "code",
   "execution_count": 11,
   "id": "c98203f0",
   "metadata": {},
   "outputs": [
    {
     "data": {
      "text/plain": [
       "0         Behavioral questions and questions regarding m...\n",
       "1         Describe many to many relationship in a database.\n",
       "2                 Provide an example you overcame adversity\n",
       "3         What have you done before that is similar to w...\n",
       "4         What’s a time you had a customer upset and you...\n",
       "                                ...                        \n",
       "159662    What is the largest sale you have been involve...\n",
       "159663    Case Study: Analyze the current state of the h...\n",
       "159664    Do you think cloud computing will live up to t...\n",
       "159665        Describe a time when you failed at something.\n",
       "159666              Why did you choose your degree subject?\n",
       "Name: InterviewQuestions, Length: 159667, dtype: object"
      ]
     },
     "execution_count": 11,
     "metadata": {},
     "output_type": "execute_result"
    }
   ],
   "source": [
    "data.InterviewQuestions"
   ]
  },
  {
   "cell_type": "code",
   "execution_count": 12,
   "id": "70477a5d",
   "metadata": {},
   "outputs": [
    {
     "data": {
      "text/html": [
       "<div>\n",
       "<style scoped>\n",
       "    .dataframe tbody tr th:only-of-type {\n",
       "        vertical-align: middle;\n",
       "    }\n",
       "\n",
       "    .dataframe tbody tr th {\n",
       "        vertical-align: top;\n",
       "    }\n",
       "\n",
       "    .dataframe thead th {\n",
       "        text-align: right;\n",
       "    }\n",
       "</style>\n",
       "<table border=\"1\" class=\"dataframe\">\n",
       "  <thead>\n",
       "    <tr style=\"text-align: right;\">\n",
       "      <th></th>\n",
       "      <th>Unnamed: 0</th>\n",
       "      <th>Time</th>\n",
       "      <th>Title</th>\n",
       "      <th>SubTitle</th>\n",
       "      <th>Declined Offer</th>\n",
       "      <th>Neutral Experience</th>\n",
       "      <th>Average Interview</th>\n",
       "      <th>Application</th>\n",
       "      <th>Interview</th>\n",
       "      <th>InterviewQuestions</th>\n",
       "      <th>date</th>\n",
       "      <th>combined</th>\n",
       "      <th>period</th>\n",
       "      <th>period_count</th>\n",
       "      <th>length</th>\n",
       "    </tr>\n",
       "  </thead>\n",
       "  <tbody>\n",
       "    <tr>\n",
       "      <th>0</th>\n",
       "      <td>1</td>\n",
       "      <td>Apr 22, 2022</td>\n",
       "      <td>Legal Counsel Interview</td>\n",
       "      <td>Anonymous Interview Candidate</td>\n",
       "      <td>bad</td>\n",
       "      <td>neutral</td>\n",
       "      <td>neutral</td>\n",
       "      <td>I interviewed at Comcast</td>\n",
       "      <td>Multi-step interview process with long lulls b...</td>\n",
       "      <td>Behavioral questions and questions regarding m...</td>\n",
       "      <td>2022-04-22 00:00:00</td>\n",
       "      <td>Multi-step interview process with long lulls b...</td>\n",
       "      <td>3.0</td>\n",
       "      <td>666</td>\n",
       "      <td>204</td>\n",
       "    </tr>\n",
       "    <tr>\n",
       "      <th>1</th>\n",
       "      <td>2</td>\n",
       "      <td>Apr 21, 2022</td>\n",
       "      <td>Software Engineer Interview</td>\n",
       "      <td>Anonymous Interview Candidate</td>\n",
       "      <td>bad</td>\n",
       "      <td>bad</td>\n",
       "      <td>neutral</td>\n",
       "      <td>I interviewed at Comcast</td>\n",
       "      <td>The interview was conducted online. 2 rounds w...</td>\n",
       "      <td>Describe many to many relationship in a database.</td>\n",
       "      <td>2022-04-21 00:00:00</td>\n",
       "      <td>The interview was conducted online. 2 rounds w...</td>\n",
       "      <td>3.0</td>\n",
       "      <td>666</td>\n",
       "      <td>196</td>\n",
       "    </tr>\n",
       "    <tr>\n",
       "      <th>2</th>\n",
       "      <td>3</td>\n",
       "      <td>Apr 21, 2022</td>\n",
       "      <td>Customer Account Manager Interview</td>\n",
       "      <td>Anonymous Employee in Abington, PA</td>\n",
       "      <td>good</td>\n",
       "      <td>bad</td>\n",
       "      <td>good</td>\n",
       "      <td>I applied through a recruiter. The process too...</td>\n",
       "      <td>Initial online screening, phone screen with re...</td>\n",
       "      <td>Provide an example you overcame adversity</td>\n",
       "      <td>2022-04-21 00:00:00</td>\n",
       "      <td>Initial online screening, phone screen with re...</td>\n",
       "      <td>3.0</td>\n",
       "      <td>666</td>\n",
       "      <td>435</td>\n",
       "    </tr>\n",
       "    <tr>\n",
       "      <th>3</th>\n",
       "      <td>4</td>\n",
       "      <td>Apr 18, 2022</td>\n",
       "      <td>Digital Marketer Interview</td>\n",
       "      <td>Anonymous Interview Candidate</td>\n",
       "      <td>neutral</td>\n",
       "      <td>neutral</td>\n",
       "      <td>neutral</td>\n",
       "      <td>I interviewed at Comcast</td>\n",
       "      <td>The interview process was pretty standard real...</td>\n",
       "      <td>What have you done before that is similar to w...</td>\n",
       "      <td>2022-04-18 00:00:00</td>\n",
       "      <td>The interview process was pretty standard real...</td>\n",
       "      <td>3.0</td>\n",
       "      <td>666</td>\n",
       "      <td>225</td>\n",
       "    </tr>\n",
       "    <tr>\n",
       "      <th>4</th>\n",
       "      <td>5</td>\n",
       "      <td>Apr 14, 2022</td>\n",
       "      <td>Customer Onboarding Specialist Interview</td>\n",
       "      <td>Anonymous Interview Candidate in Houston, TX</td>\n",
       "      <td>bad</td>\n",
       "      <td>bad</td>\n",
       "      <td>neutral</td>\n",
       "      <td>I applied online. The process took 4 weeks. I ...</td>\n",
       "      <td>Applied online received assessment, received c...</td>\n",
       "      <td>What’s a time you had a customer upset and you...</td>\n",
       "      <td>2022-04-14 00:00:00</td>\n",
       "      <td>Applied online received assessment, received c...</td>\n",
       "      <td>3.0</td>\n",
       "      <td>666</td>\n",
       "      <td>396</td>\n",
       "    </tr>\n",
       "    <tr>\n",
       "      <th>...</th>\n",
       "      <td>...</td>\n",
       "      <td>...</td>\n",
       "      <td>...</td>\n",
       "      <td>...</td>\n",
       "      <td>...</td>\n",
       "      <td>...</td>\n",
       "      <td>...</td>\n",
       "      <td>...</td>\n",
       "      <td>...</td>\n",
       "      <td>...</td>\n",
       "      <td>...</td>\n",
       "      <td>...</td>\n",
       "      <td>...</td>\n",
       "      <td>...</td>\n",
       "      <td>...</td>\n",
       "    </tr>\n",
       "    <tr>\n",
       "      <th>159662</th>\n",
       "      <td>21354</td>\n",
       "      <td>Feb 23, 2011</td>\n",
       "      <td>Sales Coordinator Interview</td>\n",
       "      <td>Anonymous Interview Candidate in MISSING VALUE</td>\n",
       "      <td>bad</td>\n",
       "      <td>neutral</td>\n",
       "      <td>neutral</td>\n",
       "      <td>I applied online. The process took 4 weeks. I ...</td>\n",
       "      <td>Contacted for initial phone interview. Took th...</td>\n",
       "      <td>What is the largest sale you have been involve...</td>\n",
       "      <td>2011-02-23 00:00:00</td>\n",
       "      <td>Contacted for initial phone interview. Took th...</td>\n",
       "      <td>1.0</td>\n",
       "      <td>3890</td>\n",
       "      <td>501</td>\n",
       "    </tr>\n",
       "    <tr>\n",
       "      <th>159663</th>\n",
       "      <td>21355</td>\n",
       "      <td>Feb 21, 2011</td>\n",
       "      <td>Management Consulting Analyst Interview</td>\n",
       "      <td>Anonymous Interview Candidate in New York, NY</td>\n",
       "      <td>neutral</td>\n",
       "      <td>bad</td>\n",
       "      <td>good</td>\n",
       "      <td>I applied through an employee referral The pro...</td>\n",
       "      <td>Overall, the process was well run, however I w...</td>\n",
       "      <td>Case Study: Analyze the current state of the h...</td>\n",
       "      <td>2011-02-21 00:00:00</td>\n",
       "      <td>Overall, the process was well run, however I w...</td>\n",
       "      <td>1.0</td>\n",
       "      <td>3890</td>\n",
       "      <td>87</td>\n",
       "    </tr>\n",
       "    <tr>\n",
       "      <th>159664</th>\n",
       "      <td>21356</td>\n",
       "      <td>Feb 18, 2011</td>\n",
       "      <td>Manager Interview</td>\n",
       "      <td>Anonymous Employee in Los Angeles, CA</td>\n",
       "      <td>good</td>\n",
       "      <td>neutral</td>\n",
       "      <td>good</td>\n",
       "      <td>I applied through an employee referral The pro...</td>\n",
       "      <td>This was much more informal than you'd expect....</td>\n",
       "      <td>Do you think cloud computing will live up to t...</td>\n",
       "      <td>2011-02-18 00:00:00</td>\n",
       "      <td>This was much more informal than you'd expect....</td>\n",
       "      <td>1.0</td>\n",
       "      <td>3890</td>\n",
       "      <td>318</td>\n",
       "    </tr>\n",
       "    <tr>\n",
       "      <th>159665</th>\n",
       "      <td>21357</td>\n",
       "      <td>Feb 17, 2011</td>\n",
       "      <td>Financial Analyst Interview</td>\n",
       "      <td>Anonymous Interview Candidate in Reston, VA</td>\n",
       "      <td>bad</td>\n",
       "      <td>neutral</td>\n",
       "      <td>neutral</td>\n",
       "      <td>I applied online. The process took 3 weeks. I ...</td>\n",
       "      <td>I first had a phone screening with a recruiter...</td>\n",
       "      <td>Describe a time when you failed at something.</td>\n",
       "      <td>2011-02-17 00:00:00</td>\n",
       "      <td>I first had a phone screening with a recruiter...</td>\n",
       "      <td>1.0</td>\n",
       "      <td>3890</td>\n",
       "      <td>344</td>\n",
       "    </tr>\n",
       "    <tr>\n",
       "      <th>159666</th>\n",
       "      <td>21358</td>\n",
       "      <td>Feb 16, 2011</td>\n",
       "      <td>Consultant Interview</td>\n",
       "      <td>Anonymous Interview Candidate in London, England</td>\n",
       "      <td>bad</td>\n",
       "      <td>neutral</td>\n",
       "      <td>bad</td>\n",
       "      <td>I applied online. The process took 2 days. I i...</td>\n",
       "      <td>Initial Phone interview, followed by 1st round...</td>\n",
       "      <td>Why did you choose your degree subject?</td>\n",
       "      <td>2011-02-16 00:00:00</td>\n",
       "      <td>Initial Phone interview, followed by 1st round...</td>\n",
       "      <td>1.0</td>\n",
       "      <td>3890</td>\n",
       "      <td>250</td>\n",
       "    </tr>\n",
       "  </tbody>\n",
       "</table>\n",
       "<p>159667 rows × 15 columns</p>\n",
       "</div>"
      ],
      "text/plain": [
       "        Unnamed: 0          Time                                     Title  \\\n",
       "0                1  Apr 22, 2022                   Legal Counsel Interview   \n",
       "1                2  Apr 21, 2022               Software Engineer Interview   \n",
       "2                3  Apr 21, 2022        Customer Account Manager Interview   \n",
       "3                4  Apr 18, 2022                Digital Marketer Interview   \n",
       "4                5  Apr 14, 2022  Customer Onboarding Specialist Interview   \n",
       "...            ...           ...                                       ...   \n",
       "159662       21354  Feb 23, 2011               Sales Coordinator Interview   \n",
       "159663       21355  Feb 21, 2011   Management Consulting Analyst Interview   \n",
       "159664       21356  Feb 18, 2011                         Manager Interview   \n",
       "159665       21357  Feb 17, 2011               Financial Analyst Interview   \n",
       "159666       21358  Feb 16, 2011                      Consultant Interview   \n",
       "\n",
       "                                                SubTitle Declined Offer  \\\n",
       "0                          Anonymous Interview Candidate            bad   \n",
       "1                          Anonymous Interview Candidate            bad   \n",
       "2                     Anonymous Employee in Abington, PA           good   \n",
       "3                          Anonymous Interview Candidate        neutral   \n",
       "4           Anonymous Interview Candidate in Houston, TX            bad   \n",
       "...                                                  ...            ...   \n",
       "159662    Anonymous Interview Candidate in MISSING VALUE            bad   \n",
       "159663     Anonymous Interview Candidate in New York, NY        neutral   \n",
       "159664             Anonymous Employee in Los Angeles, CA           good   \n",
       "159665       Anonymous Interview Candidate in Reston, VA            bad   \n",
       "159666  Anonymous Interview Candidate in London, England            bad   \n",
       "\n",
       "       Neutral Experience Average Interview  \\\n",
       "0                 neutral           neutral   \n",
       "1                     bad           neutral   \n",
       "2                     bad              good   \n",
       "3                 neutral           neutral   \n",
       "4                     bad           neutral   \n",
       "...                   ...               ...   \n",
       "159662            neutral           neutral   \n",
       "159663                bad              good   \n",
       "159664            neutral              good   \n",
       "159665            neutral           neutral   \n",
       "159666            neutral               bad   \n",
       "\n",
       "                                              Application  \\\n",
       "0                                I interviewed at Comcast   \n",
       "1                                I interviewed at Comcast   \n",
       "2       I applied through a recruiter. The process too...   \n",
       "3                                I interviewed at Comcast   \n",
       "4       I applied online. The process took 4 weeks. I ...   \n",
       "...                                                   ...   \n",
       "159662  I applied online. The process took 4 weeks. I ...   \n",
       "159663  I applied through an employee referral The pro...   \n",
       "159664  I applied through an employee referral The pro...   \n",
       "159665  I applied online. The process took 3 weeks. I ...   \n",
       "159666  I applied online. The process took 2 days. I i...   \n",
       "\n",
       "                                                Interview  \\\n",
       "0       Multi-step interview process with long lulls b...   \n",
       "1       The interview was conducted online. 2 rounds w...   \n",
       "2       Initial online screening, phone screen with re...   \n",
       "3       The interview process was pretty standard real...   \n",
       "4       Applied online received assessment, received c...   \n",
       "...                                                   ...   \n",
       "159662  Contacted for initial phone interview. Took th...   \n",
       "159663  Overall, the process was well run, however I w...   \n",
       "159664  This was much more informal than you'd expect....   \n",
       "159665  I first had a phone screening with a recruiter...   \n",
       "159666  Initial Phone interview, followed by 1st round...   \n",
       "\n",
       "                                       InterviewQuestions  \\\n",
       "0       Behavioral questions and questions regarding m...   \n",
       "1       Describe many to many relationship in a database.   \n",
       "2               Provide an example you overcame adversity   \n",
       "3       What have you done before that is similar to w...   \n",
       "4       What’s a time you had a customer upset and you...   \n",
       "...                                                   ...   \n",
       "159662  What is the largest sale you have been involve...   \n",
       "159663  Case Study: Analyze the current state of the h...   \n",
       "159664  Do you think cloud computing will live up to t...   \n",
       "159665      Describe a time when you failed at something.   \n",
       "159666            Why did you choose your degree subject?   \n",
       "\n",
       "                       date  \\\n",
       "0       2022-04-22 00:00:00   \n",
       "1       2022-04-21 00:00:00   \n",
       "2       2022-04-21 00:00:00   \n",
       "3       2022-04-18 00:00:00   \n",
       "4       2022-04-14 00:00:00   \n",
       "...                     ...   \n",
       "159662  2011-02-23 00:00:00   \n",
       "159663  2011-02-21 00:00:00   \n",
       "159664  2011-02-18 00:00:00   \n",
       "159665  2011-02-17 00:00:00   \n",
       "159666  2011-02-16 00:00:00   \n",
       "\n",
       "                                                 combined  period  \\\n",
       "0       Multi-step interview process with long lulls b...     3.0   \n",
       "1       The interview was conducted online. 2 rounds w...     3.0   \n",
       "2       Initial online screening, phone screen with re...     3.0   \n",
       "3       The interview process was pretty standard real...     3.0   \n",
       "4       Applied online received assessment, received c...     3.0   \n",
       "...                                                   ...     ...   \n",
       "159662  Contacted for initial phone interview. Took th...     1.0   \n",
       "159663  Overall, the process was well run, however I w...     1.0   \n",
       "159664  This was much more informal than you'd expect....     1.0   \n",
       "159665  I first had a phone screening with a recruiter...     1.0   \n",
       "159666  Initial Phone interview, followed by 1st round...     1.0   \n",
       "\n",
       "        period_count  length  \n",
       "0                666     204  \n",
       "1                666     196  \n",
       "2                666     435  \n",
       "3                666     225  \n",
       "4                666     396  \n",
       "...              ...     ...  \n",
       "159662          3890     501  \n",
       "159663          3890      87  \n",
       "159664          3890     318  \n",
       "159665          3890     344  \n",
       "159666          3890     250  \n",
       "\n",
       "[159667 rows x 15 columns]"
      ]
     },
     "execution_count": 12,
     "metadata": {},
     "output_type": "execute_result"
    }
   ],
   "source": [
    "data = data.fillna(\"\")\n",
    "data"
   ]
  },
  {
   "cell_type": "markdown",
   "id": "349fe087",
   "metadata": {},
   "source": [
    "In fact, the two texts in this experiment were not exactly equal; their ratio was 2:1. But this is the case where I've combined two data sources, and I think that's enough."
   ]
  },
  {
   "cell_type": "markdown",
   "id": "640f9efe",
   "metadata": {},
   "source": [
    "#### Preprocess data"
   ]
  },
  {
   "cell_type": "code",
   "execution_count": 13,
   "id": "644f3cd8",
   "metadata": {},
   "outputs": [],
   "source": [
    "# Removing Punctutaion\n",
    "def clean1(text):\n",
    "    words = []\n",
    "    for word in text:\n",
    "        if word not in string.punctuation:\n",
    "            words.append(word)\n",
    "    output= \"\".join(words)\n",
    "    return output"
   ]
  },
  {
   "cell_type": "code",
   "execution_count": 14,
   "id": "771b170e",
   "metadata": {},
   "outputs": [],
   "source": [
    "# Tokenizing\n",
    "def clean3(text):\n",
    "    split=re.split(\"\\W+\",text) \n",
    "    return split"
   ]
  },
  {
   "cell_type": "code",
   "execution_count": 15,
   "id": "797fd4d1",
   "metadata": {},
   "outputs": [],
   "source": [
    "# Removing Stopwords\n",
    "stopword = set(stopwords.words('english'))\n",
    "stopword.add('interview')\n",
    "stopword.add('question')\n",
    "stopword.add('the')\n",
    "stopword.add('i')\n",
    "stopword.add('recruiter')\n",
    "def clean2(text):\n",
    "    return \" \".join([word for word in str(text).split() if word not in stopword])"
   ]
  },
  {
   "cell_type": "code",
   "execution_count": 16,
   "id": "74e7aad9",
   "metadata": {},
   "outputs": [],
   "source": [
    "# Tokenizing\n",
    "def clean3(text):\n",
    "    split=re.split(\"\\W+\",text) \n",
    "    return split"
   ]
  },
  {
   "cell_type": "code",
   "execution_count": 17,
   "id": "01947680",
   "metadata": {},
   "outputs": [],
   "source": [
    "# Lemmatizing\n",
    "'''In order to avoid that the different parts of speech of the \n",
    "same word will disturb our analysis, we need to restore their form.'''\n",
    "lemmatizer = WordNetLemmatizer()\n",
    "def lemmatize_words(text):\n",
    "    return \" \".join([lemmatizer.lemmatize(word) for word in text])"
   ]
  },
  {
   "cell_type": "code",
   "execution_count": 18,
   "id": "d1578345",
   "metadata": {},
   "outputs": [
    {
     "data": {
      "text/plain": [
       "'Multi-step interview process with long lulls between the interviews. The interviews were more substantive as I progressing in the process. The initial interview was simply a screener with human resources. Behavioral questions and questions regarding my experience.'"
      ]
     },
     "execution_count": 18,
     "metadata": {},
     "output_type": "execute_result"
    }
   ],
   "source": [
    "data[\"combined\"][0]"
   ]
  },
  {
   "cell_type": "code",
   "execution_count": 19,
   "id": "54b40f4d",
   "metadata": {},
   "outputs": [],
   "source": [
    "combined1 = data[data[\"period\"] == 1][\"combined\"]\n",
    "combined2 = data[data[\"period\"] == 2][\"combined\"]\n",
    "combined3 = data[data[\"period\"] == 3][\"combined\"]"
   ]
  },
  {
   "cell_type": "code",
   "execution_count": 20,
   "id": "5e8c71c2",
   "metadata": {},
   "outputs": [
    {
     "data": {
      "text/plain": [
       "485       3890\n",
       "486       3890\n",
       "487       3890\n",
       "488       3890\n",
       "489       3890\n",
       "          ... \n",
       "159662    3890\n",
       "159663    3890\n",
       "159664    3890\n",
       "159665    3890\n",
       "159666    3890\n",
       "Name: period_count, Length: 105307, dtype: int64"
      ]
     },
     "execution_count": 20,
     "metadata": {},
     "output_type": "execute_result"
    }
   ],
   "source": [
    "data[data[\"period\"] == 1][\"period_count\"]"
   ]
  },
  {
   "cell_type": "code",
   "execution_count": 21,
   "id": "964a11db",
   "metadata": {},
   "outputs": [
    {
     "data": {
      "text/plain": [
       "430       182\n",
       "431       182\n",
       "432       182\n",
       "433       182\n",
       "434       182\n",
       "         ... \n",
       "146779    182\n",
       "146780    182\n",
       "146781    182\n",
       "146782    182\n",
       "146783    182\n",
       "Name: period_count, Length: 5161, dtype: int64"
      ]
     },
     "execution_count": 21,
     "metadata": {},
     "output_type": "execute_result"
    }
   ],
   "source": [
    "data[data[\"period\"] == 2][\"period_count\"]"
   ]
  },
  {
   "cell_type": "code",
   "execution_count": 22,
   "id": "b74c8242",
   "metadata": {},
   "outputs": [
    {
     "data": {
      "text/plain": [
       "0         666\n",
       "1         666\n",
       "2         666\n",
       "3         666\n",
       "4         666\n",
       "         ... \n",
       "146124    666\n",
       "146125    666\n",
       "146126    666\n",
       "146127    666\n",
       "146128    666\n",
       "Name: period_count, Length: 49199, dtype: int64"
      ]
     },
     "execution_count": 22,
     "metadata": {},
     "output_type": "execute_result"
    }
   ],
   "source": [
    "data[data[\"period\"] == 3][\"period_count\"]"
   ]
  },
  {
   "cell_type": "code",
   "execution_count": 23,
   "id": "99fbb576",
   "metadata": {},
   "outputs": [],
   "source": [
    "period1count=3890\n",
    "period2count=182\n",
    "period3count=666"
   ]
  },
  {
   "cell_type": "code",
   "execution_count": 24,
   "id": "6ac2ecd8",
   "metadata": {},
   "outputs": [],
   "source": [
    "def dataprocessing(target):\n",
    "    target = target.apply(lambda x: clean1(x))\n",
    "    target = target.apply(lambda x: clean3(x))\n",
    "    target = target.apply(lambda x: clean2(x))\n",
    "    target = target.apply(lambda x: clean3(x))\n",
    "    target = target.apply(lambda text: lemmatize_words(text))\n",
    "    output = \" \".join(target.tolist())\n",
    "    return output"
   ]
  },
  {
   "cell_type": "code",
   "execution_count": 25,
   "id": "74130774",
   "metadata": {},
   "outputs": [],
   "source": [
    "period1combined = dataprocessing(combined1)\n",
    "period2combined = dataprocessing(combined2)\n",
    "period3combined = dataprocessing(combined3)"
   ]
  },
  {
   "cell_type": "code",
   "execution_count": 26,
   "id": "9aa2b923",
   "metadata": {},
   "outputs": [],
   "source": [
    "# Finding most repeated words in the data\n",
    "def top_words(text,words,count):\n",
    "    allWords = nltk.tokenize.word_tokenize(text)\n",
    "    stopwords = nltk.corpus.stopwords.words('english')\n",
    "    stopwords = set(stopwords)\n",
    "    appendlist = {\"the\",\"i\",'interviewer',\"interview\",\"wa\",\"recruiter\",\"process\",\"question\",\"one\",\"would\",\"1\",'2','3','4','5','6','asked','got','hr'}\n",
    "    stopwords.update(appendlist)\n",
    "    allWordExceptStopDist = nltk.FreqDist([w.lower() for w in allWords if w.lower() not in list(stopwords)])   \n",
    "    mostCommontuples= allWordExceptStopDist.most_common(words)\n",
    "    mostCommon = [(tupl[0],round(tupl[1]/count,2)) for tupl in mostCommontuples]\n",
    "    return mostCommon"
   ]
  },
  {
   "cell_type": "markdown",
   "id": "f77adee8",
   "metadata": {},
   "source": [
    "#### High frequency words for different kinds of situations"
   ]
  },
  {
   "cell_type": "code",
   "execution_count": 27,
   "id": "6aec2846",
   "metadata": {},
   "outputs": [],
   "source": [
    "type1p1 = top_words(period1combined,100,period1count)"
   ]
  },
  {
   "cell_type": "code",
   "execution_count": 28,
   "id": "f3f3f461",
   "metadata": {},
   "outputs": [],
   "source": [
    "type1p2 = top_words(period2combined,100,period2count)"
   ]
  },
  {
   "cell_type": "code",
   "execution_count": 29,
   "id": "2450b3ec",
   "metadata": {},
   "outputs": [],
   "source": [
    "type1p3 = top_words(period2combined,100,period3count)"
   ]
  },
  {
   "cell_type": "code",
   "execution_count": 48,
   "id": "286edc73",
   "metadata": {},
   "outputs": [],
   "source": [
    "def foundchange(list1,list2):\n",
    "    output = {}\n",
    "    for word1 in list1:\n",
    "        for word2 in list2:\n",
    "            if word1[0] == word2[0]:\n",
    "                percentchange = round(word2[1]/word1[1] - 1,2)\n",
    "                if percentchange >= 0.2 or percentchange <= -0.3:\n",
    "                    output[word1[0]] = percentchange\n",
    "    return output"
   ]
  },
  {
   "cell_type": "code",
   "execution_count": 49,
   "id": "86c728ee",
   "metadata": {},
   "outputs": [],
   "source": [
    "def standard(lst,aimdic):\n",
    "    output = {}\n",
    "    total = []\n",
    "    for word in aimdic.keys():\n",
    "        for word1 in lst:\n",
    "            if word1[0] == word:\n",
    "                total.append(word1[1])\n",
    "    average = sum(total) / len(total)\n",
    "    for word in aimdic.keys():\n",
    "        for word1 in lst:\n",
    "            if word1[0] == word:\n",
    "                output[word] = round(word1[1]/average,2)\n",
    "    return output"
   ]
  },
  {
   "cell_type": "code",
   "execution_count": 50,
   "id": "cc0fc99f",
   "metadata": {},
   "outputs": [],
   "source": [
    "def foundchangeforp2to3(aimdic2,aimdic3):\n",
    "    output = {}\n",
    "    for word2 in aimdic2.keys():\n",
    "        for word3 in aimdic3.keys():\n",
    "            if word2 == word3:\n",
    "                output[word2] = round((aimdic3[word2])/(aimdic2[word2])-1,2)\n",
    "    return output"
   ]
  },
  {
   "cell_type": "code",
   "execution_count": 51,
   "id": "1273e09c",
   "metadata": {},
   "outputs": [
    {
     "name": "stdout",
     "output_type": "stream",
     "text": [
      "{'round': 0.28, 'week': -0.36, 'position': -0.35, 'later': -0.45, 'group': -0.5, 'customer': -0.48, 'team': 0.24, 'went': -0.32, 'behavioral': 0.21, 'told': -0.38, 'difficult': -0.38, 'interviewed': -0.32, 'amazon': 0.72, 'role': 0.38, 'based': 0.23, 'onsite': 0.36, 'coding': 0.82, 'assessment': 0.82, 'screen': 0.42}\n"
     ]
    }
   ],
   "source": [
    "change1 = foundchange(type1p1,type1p2)\n",
    "print(change1)"
   ]
  },
  {
   "cell_type": "code",
   "execution_count": 52,
   "id": "719d946e",
   "metadata": {},
   "outputs": [],
   "source": [
    "stand1 = standard(type1p2,foundchange(type1p1,type1p2))"
   ]
  },
  {
   "cell_type": "code",
   "execution_count": 53,
   "id": "6080955b",
   "metadata": {},
   "outputs": [],
   "source": [
    "stand2 = standard(type1p3,foundchange(type1p1,type1p2))"
   ]
  },
  {
   "cell_type": "code",
   "execution_count": 54,
   "id": "1ad7b442",
   "metadata": {},
   "outputs": [],
   "source": [
    "change2 = foundchangeforp2to3(standard(type1p2,foundchange(type1p1,type1p2)),standard(type1p3,foundchange(type1p1,type1p2)))"
   ]
  },
  {
   "cell_type": "code",
   "execution_count": 55,
   "id": "fa5f3719",
   "metadata": {},
   "outputs": [],
   "source": [
    "relatedword = ['onsite','position','team','customer','role']"
   ]
  },
  {
   "cell_type": "code",
   "execution_count": 56,
   "id": "5bed9731",
   "metadata": {},
   "outputs": [],
   "source": [
    "def preplot(wordlist,changep1,changep2,intialfrequent):\n",
    "    output = {}\n",
    "    for word in wordlist:\n",
    "        for word1 in intialfrequent:\n",
    "            if word == word1[0]:\n",
    "                initial = word1[1]\n",
    "                p2 = round(initial * (changep1[word]+1),2)\n",
    "                p3 = round(p2 * (changep2[word]+1),2)\n",
    "                output[word] = [initial, p2, p3]\n",
    "    return output"
   ]
  },
  {
   "cell_type": "code",
   "execution_count": 57,
   "id": "c54be200",
   "metadata": {},
   "outputs": [
    {
     "data": {
      "text/plain": [
       "{'onsite': [2.35, 3.2, 3.17],\n",
       " 'position': [5.24, 3.41, 3.44],\n",
       " 'team': [3.79, 4.7, 4.75],\n",
       " 'customer': [3.85, 2.0, 2.04],\n",
       " 'role': [2.52, 3.48, 3.48]}"
      ]
     },
     "execution_count": 57,
     "metadata": {},
     "output_type": "execute_result"
    }
   ],
   "source": [
    "preplot(relatedword,change1,change2,type1p1)"
   ]
  },
  {
   "cell_type": "code",
   "execution_count": 58,
   "id": "ec30f6ca",
   "metadata": {},
   "outputs": [],
   "source": [
    "period = [\"before 2019-12-31\",\"2019-12-31 to 2020-06-30\", \"after 2020-06-30\"]"
   ]
  },
  {
   "cell_type": "code",
   "execution_count": 80,
   "id": "961703a8",
   "metadata": {},
   "outputs": [],
   "source": [
    "def plot(preplot,period):\n",
    "    for word,change in preplot.items():\n",
    "        plt.plot(period,change,label=word)\n",
    "    plt.title('Word changes')\n",
    "    plt.xlabel('period')\n",
    "    plt.ylabel('frequency/day')\n",
    "    plt.legend()"
   ]
  },
  {
   "cell_type": "code",
   "execution_count": 81,
   "id": "b0323676",
   "metadata": {},
   "outputs": [
    {
     "data": {
      "image/png": "[encoded data removed]",
      "text/plain": [
       "<Figure size 432x288 with 1 Axes>"
      ]
     },
     "metadata": {
      "needs_background": "light"
     },
     "output_type": "display_data"
    }
   ],
   "source": [
    "PIT = plot(preplot(relatedword,change1,change2,type1p1),period)"
   ]
  }
 ],
 "metadata": {
  "kernelspec": {
   "display_name": "Python 3",
   "language": "python",
   "name": "python3"
  },
  "language_info": {
   "codemirror_mode": {
    "name": "ipython",
    "version": 3
   },
   "file_extension": ".py",
   "mimetype": "text/x-python",
   "name": "python",
   "nbconvert_exporter": "python",
   "pygments_lexer": "ipython3",
   "version": "3.8.8"
  }
 },
 "nbformat": 4,
 "nbformat_minor": 5
}
