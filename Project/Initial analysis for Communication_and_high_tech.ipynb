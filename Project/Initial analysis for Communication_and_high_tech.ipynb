{
 "cells": [
  {
   "cell_type": "code",
   "execution_count": 1,
   "id": "fd4a7362",
   "metadata": {},
   "outputs": [],
   "source": [
    "# import the packages used for analysis\n",
    "import nltk\n",
    "import pandas as pd\n",
    "import numpy as np\n",
    "import string\n",
    "import regex as re\n",
    "\n",
    "import matplotlib.pyplot as plt\n",
    "from nltk.corpus import stopwords\n",
    "from nltk.stem import WordNetLemmatizer\n",
    "from wordcloud import WordCloud, STOPWORDS\n",
    "from sklearn.neighbors import KNeighborsClassifier\n",
    "from sklearn.model_selection import train_test_split\n",
    "from sklearn.feature_extraction.text import TfidfVectorizer\n",
    "from sklearn.metrics import accuracy_score, recall_score\n",
    "from sklearn.metrics import classification_report\n",
    "from sklearn.ensemble import RandomForestClassifier\n",
    "from sklearn.naive_bayes import MultinomialNB\n",
    "from sklearn import feature_extraction, model_selection, metrics, svm"
   ]
  },
  {
   "cell_type": "code",
   "execution_count": 2,
   "id": "11f05a8e",
   "metadata": {},
   "outputs": [],
   "source": [
    "import datetime\n",
    "import spacy\n",
    "import math"
   ]
  },
  {
   "cell_type": "code",
   "execution_count": 3,
   "id": "6f7479f4",
   "metadata": {},
   "outputs": [],
   "source": [
    "data = pd.read_csv('Communication_and_high_tech.csv')      # reading data"
   ]
  },
  {
   "cell_type": "code",
   "execution_count": 4,
   "id": "dd975a0e",
   "metadata": {},
   "outputs": [
    {
     "data": {
      "text/html": [
       "<div>\n",
       "<style scoped>\n",
       "    .dataframe tbody tr th:only-of-type {\n",
       "        vertical-align: middle;\n",
       "    }\n",
       "\n",
       "    .dataframe tbody tr th {\n",
       "        vertical-align: top;\n",
       "    }\n",
       "\n",
       "    .dataframe thead th {\n",
       "        text-align: right;\n",
       "    }\n",
       "</style>\n",
       "<table border=\"1\" class=\"dataframe\">\n",
       "  <thead>\n",
       "    <tr style=\"text-align: right;\">\n",
       "      <th></th>\n",
       "      <th>Unnamed: 0</th>\n",
       "      <th>Time</th>\n",
       "      <th>Title</th>\n",
       "      <th>SubTitle</th>\n",
       "      <th>Declined Offer</th>\n",
       "      <th>Neutral Experience</th>\n",
       "      <th>Average Interview</th>\n",
       "      <th>Application</th>\n",
       "      <th>Interview</th>\n",
       "      <th>InterviewQuestions</th>\n",
       "      <th>date</th>\n",
       "    </tr>\n",
       "  </thead>\n",
       "  <tbody>\n",
       "    <tr>\n",
       "      <th>0</th>\n",
       "      <td>1</td>\n",
       "      <td>Apr 22, 2022</td>\n",
       "      <td>Legal Counsel Interview</td>\n",
       "      <td>Anonymous Interview Candidate</td>\n",
       "      <td>bad</td>\n",
       "      <td>neutral</td>\n",
       "      <td>neutral</td>\n",
       "      <td>I interviewed at Comcast</td>\n",
       "      <td>Multi-step interview process with long lulls b...</td>\n",
       "      <td>Behavioral questions and questions regarding m...</td>\n",
       "      <td>2022-04-22 00:00:00</td>\n",
       "    </tr>\n",
       "    <tr>\n",
       "      <th>1</th>\n",
       "      <td>2</td>\n",
       "      <td>Apr 21, 2022</td>\n",
       "      <td>Software Engineer Interview</td>\n",
       "      <td>Anonymous Interview Candidate</td>\n",
       "      <td>bad</td>\n",
       "      <td>bad</td>\n",
       "      <td>neutral</td>\n",
       "      <td>I interviewed at Comcast</td>\n",
       "      <td>The interview was conducted online. 2 rounds w...</td>\n",
       "      <td>Describe many to many relationship in a database.</td>\n",
       "      <td>2022-04-21 00:00:00</td>\n",
       "    </tr>\n",
       "    <tr>\n",
       "      <th>2</th>\n",
       "      <td>3</td>\n",
       "      <td>Apr 21, 2022</td>\n",
       "      <td>Customer Account Manager Interview</td>\n",
       "      <td>Anonymous Employee in Abington, PA</td>\n",
       "      <td>good</td>\n",
       "      <td>bad</td>\n",
       "      <td>good</td>\n",
       "      <td>I applied through a recruiter. The process too...</td>\n",
       "      <td>Initial online screening, phone screen with re...</td>\n",
       "      <td>Provide an example you overcame adversity</td>\n",
       "      <td>2022-04-21 00:00:00</td>\n",
       "    </tr>\n",
       "    <tr>\n",
       "      <th>3</th>\n",
       "      <td>4</td>\n",
       "      <td>Apr 18, 2022</td>\n",
       "      <td>Digital Marketer Interview</td>\n",
       "      <td>Anonymous Interview Candidate</td>\n",
       "      <td>neutral</td>\n",
       "      <td>neutral</td>\n",
       "      <td>neutral</td>\n",
       "      <td>I interviewed at Comcast</td>\n",
       "      <td>The interview process was pretty standard real...</td>\n",
       "      <td>What have you done before that is similar to w...</td>\n",
       "      <td>2022-04-18 00:00:00</td>\n",
       "    </tr>\n",
       "    <tr>\n",
       "      <th>4</th>\n",
       "      <td>5</td>\n",
       "      <td>Apr 14, 2022</td>\n",
       "      <td>Customer Onboarding Specialist Interview</td>\n",
       "      <td>Anonymous Interview Candidate in Houston, TX</td>\n",
       "      <td>bad</td>\n",
       "      <td>bad</td>\n",
       "      <td>neutral</td>\n",
       "      <td>I applied online. The process took 4 weeks. I ...</td>\n",
       "      <td>Applied online received assessment, received c...</td>\n",
       "      <td>What’s a time you had a customer upset and you...</td>\n",
       "      <td>2022-04-14 00:00:00</td>\n",
       "    </tr>\n",
       "  </tbody>\n",
       "</table>\n",
       "</div>"
      ],
      "text/plain": [
       "   Unnamed: 0          Time                                     Title  \\\n",
       "0           1  Apr 22, 2022                   Legal Counsel Interview   \n",
       "1           2  Apr 21, 2022               Software Engineer Interview   \n",
       "2           3  Apr 21, 2022        Customer Account Manager Interview   \n",
       "3           4  Apr 18, 2022                Digital Marketer Interview   \n",
       "4           5  Apr 14, 2022  Customer Onboarding Specialist Interview   \n",
       "\n",
       "                                       SubTitle Declined Offer  \\\n",
       "0                 Anonymous Interview Candidate            bad   \n",
       "1                 Anonymous Interview Candidate            bad   \n",
       "2            Anonymous Employee in Abington, PA           good   \n",
       "3                 Anonymous Interview Candidate        neutral   \n",
       "4  Anonymous Interview Candidate in Houston, TX            bad   \n",
       "\n",
       "  Neutral Experience Average Interview  \\\n",
       "0            neutral           neutral   \n",
       "1                bad           neutral   \n",
       "2                bad              good   \n",
       "3            neutral           neutral   \n",
       "4                bad           neutral   \n",
       "\n",
       "                                         Application  \\\n",
       "0                           I interviewed at Comcast   \n",
       "1                           I interviewed at Comcast   \n",
       "2  I applied through a recruiter. The process too...   \n",
       "3                           I interviewed at Comcast   \n",
       "4  I applied online. The process took 4 weeks. I ...   \n",
       "\n",
       "                                           Interview  \\\n",
       "0  Multi-step interview process with long lulls b...   \n",
       "1  The interview was conducted online. 2 rounds w...   \n",
       "2  Initial online screening, phone screen with re...   \n",
       "3  The interview process was pretty standard real...   \n",
       "4  Applied online received assessment, received c...   \n",
       "\n",
       "                                  InterviewQuestions                 date  \n",
       "0  Behavioral questions and questions regarding m...  2022-04-22 00:00:00  \n",
       "1  Describe many to many relationship in a database.  2022-04-21 00:00:00  \n",
       "2          Provide an example you overcame adversity  2022-04-21 00:00:00  \n",
       "3  What have you done before that is similar to w...  2022-04-18 00:00:00  \n",
       "4  What’s a time you had a customer upset and you...  2022-04-14 00:00:00  "
      ]
     },
     "execution_count": 4,
     "metadata": {},
     "output_type": "execute_result"
    }
   ],
   "source": [
    "data.head(5)"
   ]
  },
  {
   "cell_type": "code",
   "execution_count": 5,
   "id": "b74248ed",
   "metadata": {},
   "outputs": [
    {
     "data": {
      "text/plain": [
       "'Multi-step interview process with long lulls between the interviews. The interviews were more substantive as I progressing in the process. The initial interview was simply a screener with human resources. Behavioral questions and questions regarding my experience.'"
      ]
     },
     "execution_count": 5,
     "metadata": {},
     "output_type": "execute_result"
    }
   ],
   "source": [
    "data['combined'] = data['Interview'] + ' ' +  data['InterviewQuestions']\n",
    "data.iloc[0].combined"
   ]
  },
  {
   "cell_type": "code",
   "execution_count": 6,
   "id": "8c259fa3",
   "metadata": {},
   "outputs": [],
   "source": [
    "data.loc[data.date <= '2019-12-31', 'period'] = 1\n",
    "data.loc[(data.date > '2019-12-31') & (data.date <= '2020-06-30'), 'period'] = 2\n",
    "data.loc[data.date > '2020-06-30', 'period'] = 3\n",
    "data['period_count'] = data.groupby('period')['date'].transform(lambda a: len(set(a)))"
   ]
  },
  {
   "cell_type": "markdown",
   "id": "f3ced8a0",
   "metadata": {},
   "source": [
    "#### Initialize data"
   ]
  },
  {
   "cell_type": "code",
   "execution_count": 7,
   "id": "c1074d03",
   "metadata": {},
   "outputs": [
    {
     "name": "stdout",
     "output_type": "stream",
     "text": [
      "<class 'pandas.core.frame.DataFrame'>\n",
      "RangeIndex: 65535 entries, 0 to 65534\n",
      "Data columns (total 14 columns):\n",
      " #   Column              Non-Null Count  Dtype  \n",
      "---  ------              --------------  -----  \n",
      " 0   Unnamed: 0          65535 non-null  int64  \n",
      " 1   Time                65535 non-null  object \n",
      " 2   Title               65535 non-null  object \n",
      " 3   SubTitle            65535 non-null  object \n",
      " 4   Declined Offer      65535 non-null  object \n",
      " 5   Neutral Experience  65535 non-null  object \n",
      " 6   Average Interview   65535 non-null  object \n",
      " 7   Application         65535 non-null  object \n",
      " 8   Interview           65535 non-null  object \n",
      " 9   InterviewQuestions  65515 non-null  object \n",
      " 10  date                65535 non-null  object \n",
      " 11  combined            65515 non-null  object \n",
      " 12  period              65535 non-null  float64\n",
      " 13  period_count        65535 non-null  int64  \n",
      "dtypes: float64(1), int64(2), object(11)\n",
      "memory usage: 7.0+ MB\n"
     ]
    }
   ],
   "source": [
    "data.info()"
   ]
  },
  {
   "cell_type": "code",
   "execution_count": 8,
   "id": "eec3762e",
   "metadata": {},
   "outputs": [
    {
     "data": {
      "text/plain": [
       "array([[<AxesSubplot:title={'center':'bad'}>,\n",
       "        <AxesSubplot:title={'center':'good'}>],\n",
       "       [<AxesSubplot:title={'center':'neutral'}>, <AxesSubplot:>]],\n",
       "      dtype=object)"
      ]
     },
     "execution_count": 8,
     "metadata": {},
     "output_type": "execute_result"
    },
    {
     "data": {
      "image/png": "[encoded data removed]",
      "text/plain": [
       "<Figure size 1152x576 with 4 Axes>"
      ]
     },
     "metadata": {
      "needs_background": "light"
     },
     "output_type": "display_data"
    }
   ],
   "source": [
    "data['length'] = data['Interview'].apply(len)\n",
    "data.hist(column='length',by='Declined Offer',bins=100, figsize=(16,8))"
   ]
  },
  {
   "cell_type": "code",
   "execution_count": 9,
   "id": "2b0032a4",
   "metadata": {},
   "outputs": [
    {
     "data": {
      "text/plain": [
       "Unnamed: 0             0\n",
       "Time                   0\n",
       "Title                  0\n",
       "SubTitle               0\n",
       "Declined Offer         0\n",
       "Neutral Experience     0\n",
       "Average Interview      0\n",
       "Application            0\n",
       "Interview              0\n",
       "InterviewQuestions    20\n",
       "date                   0\n",
       "combined              20\n",
       "period                 0\n",
       "period_count           0\n",
       "length                 0\n",
       "dtype: int64"
      ]
     },
     "execution_count": 9,
     "metadata": {},
     "output_type": "execute_result"
    }
   ],
   "source": [
    "# Checking null/missing values\n",
    "data.isnull().sum()"
   ]
  },
  {
   "cell_type": "code",
   "execution_count": 10,
   "id": "c98203f0",
   "metadata": {},
   "outputs": [
    {
     "data": {
      "text/plain": [
       "0        Behavioral questions and questions regarding m...\n",
       "1        Describe many to many relationship in a database.\n",
       "2                Provide an example you overcame adversity\n",
       "3        What have you done before that is similar to w...\n",
       "4        What’s a time you had a customer upset and you...\n",
       "                               ...                        \n",
       "65530    Are you prepared to code for most of your work...\n",
       "65531    Why did you like least about your previous job...\n",
       "65532    Did you face a situation where you had to fire...\n",
       "65533    What would you to improve the function of my c...\n",
       "65534    What is the difference between C and Java? And...\n",
       "Name: InterviewQuestions, Length: 65535, dtype: object"
      ]
     },
     "execution_count": 10,
     "metadata": {},
     "output_type": "execute_result"
    }
   ],
   "source": [
    "data.InterviewQuestions"
   ]
  },
  {
   "cell_type": "code",
   "execution_count": 11,
   "id": "70477a5d",
   "metadata": {},
   "outputs": [
    {
     "data": {
      "text/html": [
       "<div>\n",
       "<style scoped>\n",
       "    .dataframe tbody tr th:only-of-type {\n",
       "        vertical-align: middle;\n",
       "    }\n",
       "\n",
       "    .dataframe tbody tr th {\n",
       "        vertical-align: top;\n",
       "    }\n",
       "\n",
       "    .dataframe thead th {\n",
       "        text-align: right;\n",
       "    }\n",
       "</style>\n",
       "<table border=\"1\" class=\"dataframe\">\n",
       "  <thead>\n",
       "    <tr style=\"text-align: right;\">\n",
       "      <th></th>\n",
       "      <th>Unnamed: 0</th>\n",
       "      <th>Time</th>\n",
       "      <th>Title</th>\n",
       "      <th>SubTitle</th>\n",
       "      <th>Declined Offer</th>\n",
       "      <th>Neutral Experience</th>\n",
       "      <th>Average Interview</th>\n",
       "      <th>Application</th>\n",
       "      <th>Interview</th>\n",
       "      <th>InterviewQuestions</th>\n",
       "      <th>date</th>\n",
       "      <th>combined</th>\n",
       "      <th>period</th>\n",
       "      <th>period_count</th>\n",
       "      <th>length</th>\n",
       "    </tr>\n",
       "  </thead>\n",
       "  <tbody>\n",
       "    <tr>\n",
       "      <th>0</th>\n",
       "      <td>1</td>\n",
       "      <td>Apr 22, 2022</td>\n",
       "      <td>Legal Counsel Interview</td>\n",
       "      <td>Anonymous Interview Candidate</td>\n",
       "      <td>bad</td>\n",
       "      <td>neutral</td>\n",
       "      <td>neutral</td>\n",
       "      <td>I interviewed at Comcast</td>\n",
       "      <td>Multi-step interview process with long lulls b...</td>\n",
       "      <td>Behavioral questions and questions regarding m...</td>\n",
       "      <td>2022-04-22 00:00:00</td>\n",
       "      <td>Multi-step interview process with long lulls b...</td>\n",
       "      <td>3.0</td>\n",
       "      <td>665</td>\n",
       "      <td>204</td>\n",
       "    </tr>\n",
       "    <tr>\n",
       "      <th>1</th>\n",
       "      <td>2</td>\n",
       "      <td>Apr 21, 2022</td>\n",
       "      <td>Software Engineer Interview</td>\n",
       "      <td>Anonymous Interview Candidate</td>\n",
       "      <td>bad</td>\n",
       "      <td>bad</td>\n",
       "      <td>neutral</td>\n",
       "      <td>I interviewed at Comcast</td>\n",
       "      <td>The interview was conducted online. 2 rounds w...</td>\n",
       "      <td>Describe many to many relationship in a database.</td>\n",
       "      <td>2022-04-21 00:00:00</td>\n",
       "      <td>The interview was conducted online. 2 rounds w...</td>\n",
       "      <td>3.0</td>\n",
       "      <td>665</td>\n",
       "      <td>196</td>\n",
       "    </tr>\n",
       "    <tr>\n",
       "      <th>2</th>\n",
       "      <td>3</td>\n",
       "      <td>Apr 21, 2022</td>\n",
       "      <td>Customer Account Manager Interview</td>\n",
       "      <td>Anonymous Employee in Abington, PA</td>\n",
       "      <td>good</td>\n",
       "      <td>bad</td>\n",
       "      <td>good</td>\n",
       "      <td>I applied through a recruiter. The process too...</td>\n",
       "      <td>Initial online screening, phone screen with re...</td>\n",
       "      <td>Provide an example you overcame adversity</td>\n",
       "      <td>2022-04-21 00:00:00</td>\n",
       "      <td>Initial online screening, phone screen with re...</td>\n",
       "      <td>3.0</td>\n",
       "      <td>665</td>\n",
       "      <td>435</td>\n",
       "    </tr>\n",
       "    <tr>\n",
       "      <th>3</th>\n",
       "      <td>4</td>\n",
       "      <td>Apr 18, 2022</td>\n",
       "      <td>Digital Marketer Interview</td>\n",
       "      <td>Anonymous Interview Candidate</td>\n",
       "      <td>neutral</td>\n",
       "      <td>neutral</td>\n",
       "      <td>neutral</td>\n",
       "      <td>I interviewed at Comcast</td>\n",
       "      <td>The interview process was pretty standard real...</td>\n",
       "      <td>What have you done before that is similar to w...</td>\n",
       "      <td>2022-04-18 00:00:00</td>\n",
       "      <td>The interview process was pretty standard real...</td>\n",
       "      <td>3.0</td>\n",
       "      <td>665</td>\n",
       "      <td>225</td>\n",
       "    </tr>\n",
       "    <tr>\n",
       "      <th>4</th>\n",
       "      <td>5</td>\n",
       "      <td>Apr 14, 2022</td>\n",
       "      <td>Customer Onboarding Specialist Interview</td>\n",
       "      <td>Anonymous Interview Candidate in Houston, TX</td>\n",
       "      <td>bad</td>\n",
       "      <td>bad</td>\n",
       "      <td>neutral</td>\n",
       "      <td>I applied online. The process took 4 weeks. I ...</td>\n",
       "      <td>Applied online received assessment, received c...</td>\n",
       "      <td>What’s a time you had a customer upset and you...</td>\n",
       "      <td>2022-04-14 00:00:00</td>\n",
       "      <td>Applied online received assessment, received c...</td>\n",
       "      <td>3.0</td>\n",
       "      <td>665</td>\n",
       "      <td>396</td>\n",
       "    </tr>\n",
       "    <tr>\n",
       "      <th>...</th>\n",
       "      <td>...</td>\n",
       "      <td>...</td>\n",
       "      <td>...</td>\n",
       "      <td>...</td>\n",
       "      <td>...</td>\n",
       "      <td>...</td>\n",
       "      <td>...</td>\n",
       "      <td>...</td>\n",
       "      <td>...</td>\n",
       "      <td>...</td>\n",
       "      <td>...</td>\n",
       "      <td>...</td>\n",
       "      <td>...</td>\n",
       "      <td>...</td>\n",
       "      <td>...</td>\n",
       "    </tr>\n",
       "    <tr>\n",
       "      <th>65530</th>\n",
       "      <td>3000</td>\n",
       "      <td>Apr 17, 2013</td>\n",
       "      <td>Software Development Engineer Interview</td>\n",
       "      <td>Anonymous Interview Candidate</td>\n",
       "      <td>bad</td>\n",
       "      <td>none</td>\n",
       "      <td>none</td>\n",
       "      <td>I applied online. The process took 2 months. I...</td>\n",
       "      <td>Applied online and then was sent an email for ...</td>\n",
       "      <td>Are you prepared to code for most of your work...</td>\n",
       "      <td>2013-04-17 00:00:00</td>\n",
       "      <td>Applied online and then was sent an email for ...</td>\n",
       "      <td>1.0</td>\n",
       "      <td>3751</td>\n",
       "      <td>210</td>\n",
       "    </tr>\n",
       "    <tr>\n",
       "      <th>65531</th>\n",
       "      <td>3001</td>\n",
       "      <td>Apr 17, 2013</td>\n",
       "      <td>A/P Analyst Interview</td>\n",
       "      <td>Anonymous Interview Candidate in Seattle, WA</td>\n",
       "      <td>bad</td>\n",
       "      <td>neutral</td>\n",
       "      <td>bad</td>\n",
       "      <td>I applied online. I interviewed at Amazon (Sea...</td>\n",
       "      <td>I submitted my application online and was cont...</td>\n",
       "      <td>Why did you like least about your previous job...</td>\n",
       "      <td>2013-04-17 00:00:00</td>\n",
       "      <td>I submitted my application online and was cont...</td>\n",
       "      <td>1.0</td>\n",
       "      <td>3751</td>\n",
       "      <td>316</td>\n",
       "    </tr>\n",
       "    <tr>\n",
       "      <th>65532</th>\n",
       "      <td>3002</td>\n",
       "      <td>Apr 17, 2013</td>\n",
       "      <td>Operations Manager Interview</td>\n",
       "      <td>Anonymous Employee in Chennai</td>\n",
       "      <td>good</td>\n",
       "      <td>good</td>\n",
       "      <td>bad</td>\n",
       "      <td>I interviewed at Amazon (Chennai) in Mar 2013</td>\n",
       "      <td>First things first, Amazon has one of the robu...</td>\n",
       "      <td>Did you face a situation where you had to fire...</td>\n",
       "      <td>2013-04-17 00:00:00</td>\n",
       "      <td>First things first, Amazon has one of the robu...</td>\n",
       "      <td>1.0</td>\n",
       "      <td>3751</td>\n",
       "      <td>361</td>\n",
       "    </tr>\n",
       "    <tr>\n",
       "      <th>65533</th>\n",
       "      <td>3003</td>\n",
       "      <td>Apr 17, 2013</td>\n",
       "      <td>Warehouse Worker Interview</td>\n",
       "      <td>Anonymous Employee in Chattanooga, TN</td>\n",
       "      <td>good</td>\n",
       "      <td>good</td>\n",
       "      <td>good</td>\n",
       "      <td>I applied through a staffing agency. The proce...</td>\n",
       "      <td>I was hired in as a temporary worker with Inte...</td>\n",
       "      <td>What would you to improve the function of my c...</td>\n",
       "      <td>2013-04-17 00:00:00</td>\n",
       "      <td>I was hired in as a temporary worker with Inte...</td>\n",
       "      <td>1.0</td>\n",
       "      <td>3751</td>\n",
       "      <td>296</td>\n",
       "    </tr>\n",
       "    <tr>\n",
       "      <th>65534</th>\n",
       "      <td>3004</td>\n",
       "      <td>Apr 17, 2013</td>\n",
       "      <td>Software Development Engineer Intern Interview</td>\n",
       "      <td>Anonymous Employee in New York, NY</td>\n",
       "      <td>good</td>\n",
       "      <td>good</td>\n",
       "      <td>bad</td>\n",
       "      <td>I applied online. The process took 3 weeks. I ...</td>\n",
       "      <td>I started off by applying online on their webs...</td>\n",
       "      <td>What is the difference between C and Java? And...</td>\n",
       "      <td>2013-04-17 00:00:00</td>\n",
       "      <td>I started off by applying online on their webs...</td>\n",
       "      <td>1.0</td>\n",
       "      <td>3751</td>\n",
       "      <td>1485</td>\n",
       "    </tr>\n",
       "  </tbody>\n",
       "</table>\n",
       "<p>65535 rows × 15 columns</p>\n",
       "</div>"
      ],
      "text/plain": [
       "       Unnamed: 0          Time  \\\n",
       "0               1  Apr 22, 2022   \n",
       "1               2  Apr 21, 2022   \n",
       "2               3  Apr 21, 2022   \n",
       "3               4  Apr 18, 2022   \n",
       "4               5  Apr 14, 2022   \n",
       "...           ...           ...   \n",
       "65530        3000  Apr 17, 2013   \n",
       "65531        3001  Apr 17, 2013   \n",
       "65532        3002  Apr 17, 2013   \n",
       "65533        3003  Apr 17, 2013   \n",
       "65534        3004  Apr 17, 2013   \n",
       "\n",
       "                                                Title  \\\n",
       "0                             Legal Counsel Interview   \n",
       "1                         Software Engineer Interview   \n",
       "2                  Customer Account Manager Interview   \n",
       "3                          Digital Marketer Interview   \n",
       "4            Customer Onboarding Specialist Interview   \n",
       "...                                               ...   \n",
       "65530         Software Development Engineer Interview   \n",
       "65531                           A/P Analyst Interview   \n",
       "65532                    Operations Manager Interview   \n",
       "65533                      Warehouse Worker Interview   \n",
       "65534  Software Development Engineer Intern Interview   \n",
       "\n",
       "                                           SubTitle Declined Offer  \\\n",
       "0                     Anonymous Interview Candidate            bad   \n",
       "1                     Anonymous Interview Candidate            bad   \n",
       "2                Anonymous Employee in Abington, PA           good   \n",
       "3                     Anonymous Interview Candidate        neutral   \n",
       "4      Anonymous Interview Candidate in Houston, TX            bad   \n",
       "...                                             ...            ...   \n",
       "65530                 Anonymous Interview Candidate            bad   \n",
       "65531  Anonymous Interview Candidate in Seattle, WA            bad   \n",
       "65532                 Anonymous Employee in Chennai           good   \n",
       "65533         Anonymous Employee in Chattanooga, TN           good   \n",
       "65534            Anonymous Employee in New York, NY           good   \n",
       "\n",
       "      Neutral Experience Average Interview  \\\n",
       "0                neutral           neutral   \n",
       "1                    bad           neutral   \n",
       "2                    bad              good   \n",
       "3                neutral           neutral   \n",
       "4                    bad           neutral   \n",
       "...                  ...               ...   \n",
       "65530               none              none   \n",
       "65531            neutral               bad   \n",
       "65532               good               bad   \n",
       "65533               good              good   \n",
       "65534               good               bad   \n",
       "\n",
       "                                             Application  \\\n",
       "0                               I interviewed at Comcast   \n",
       "1                               I interviewed at Comcast   \n",
       "2      I applied through a recruiter. The process too...   \n",
       "3                               I interviewed at Comcast   \n",
       "4      I applied online. The process took 4 weeks. I ...   \n",
       "...                                                  ...   \n",
       "65530  I applied online. The process took 2 months. I...   \n",
       "65531  I applied online. I interviewed at Amazon (Sea...   \n",
       "65532      I interviewed at Amazon (Chennai) in Mar 2013   \n",
       "65533  I applied through a staffing agency. The proce...   \n",
       "65534  I applied online. The process took 3 weeks. I ...   \n",
       "\n",
       "                                               Interview  \\\n",
       "0      Multi-step interview process with long lulls b...   \n",
       "1      The interview was conducted online. 2 rounds w...   \n",
       "2      Initial online screening, phone screen with re...   \n",
       "3      The interview process was pretty standard real...   \n",
       "4      Applied online received assessment, received c...   \n",
       "...                                                  ...   \n",
       "65530  Applied online and then was sent an email for ...   \n",
       "65531  I submitted my application online and was cont...   \n",
       "65532  First things first, Amazon has one of the robu...   \n",
       "65533  I was hired in as a temporary worker with Inte...   \n",
       "65534  I started off by applying online on their webs...   \n",
       "\n",
       "                                      InterviewQuestions                 date  \\\n",
       "0      Behavioral questions and questions regarding m...  2022-04-22 00:00:00   \n",
       "1      Describe many to many relationship in a database.  2022-04-21 00:00:00   \n",
       "2              Provide an example you overcame adversity  2022-04-21 00:00:00   \n",
       "3      What have you done before that is similar to w...  2022-04-18 00:00:00   \n",
       "4      What’s a time you had a customer upset and you...  2022-04-14 00:00:00   \n",
       "...                                                  ...                  ...   \n",
       "65530  Are you prepared to code for most of your work...  2013-04-17 00:00:00   \n",
       "65531  Why did you like least about your previous job...  2013-04-17 00:00:00   \n",
       "65532  Did you face a situation where you had to fire...  2013-04-17 00:00:00   \n",
       "65533  What would you to improve the function of my c...  2013-04-17 00:00:00   \n",
       "65534  What is the difference between C and Java? And...  2013-04-17 00:00:00   \n",
       "\n",
       "                                                combined  period  \\\n",
       "0      Multi-step interview process with long lulls b...     3.0   \n",
       "1      The interview was conducted online. 2 rounds w...     3.0   \n",
       "2      Initial online screening, phone screen with re...     3.0   \n",
       "3      The interview process was pretty standard real...     3.0   \n",
       "4      Applied online received assessment, received c...     3.0   \n",
       "...                                                  ...     ...   \n",
       "65530  Applied online and then was sent an email for ...     1.0   \n",
       "65531  I submitted my application online and was cont...     1.0   \n",
       "65532  First things first, Amazon has one of the robu...     1.0   \n",
       "65533  I was hired in as a temporary worker with Inte...     1.0   \n",
       "65534  I started off by applying online on their webs...     1.0   \n",
       "\n",
       "       period_count  length  \n",
       "0               665     204  \n",
       "1               665     196  \n",
       "2               665     435  \n",
       "3               665     225  \n",
       "4               665     396  \n",
       "...             ...     ...  \n",
       "65530          3751     210  \n",
       "65531          3751     316  \n",
       "65532          3751     361  \n",
       "65533          3751     296  \n",
       "65534          3751    1485  \n",
       "\n",
       "[65535 rows x 15 columns]"
      ]
     },
     "execution_count": 11,
     "metadata": {},
     "output_type": "execute_result"
    }
   ],
   "source": [
    "data = data.fillna(\"\")\n",
    "data"
   ]
  },
  {
   "cell_type": "markdown",
   "id": "349fe087",
   "metadata": {},
   "source": [
    "In fact, the two texts in this experiment were not exactly equal; their ratio was 2:1. But this is the case where I've combined two data sources, and I think that's enough."
   ]
  },
  {
   "cell_type": "markdown",
   "id": "640f9efe",
   "metadata": {},
   "source": [
    "#### Preprocess data"
   ]
  },
  {
   "cell_type": "code",
   "execution_count": 12,
   "id": "644f3cd8",
   "metadata": {},
   "outputs": [],
   "source": [
    "# Removing Punctutaion\n",
    "def clean1(text):\n",
    "    words = []\n",
    "    for word in text:\n",
    "        if word not in string.punctuation:\n",
    "            words.append(word)\n",
    "    output= \"\".join(words)\n",
    "    return output"
   ]
  },
  {
   "cell_type": "code",
   "execution_count": 13,
   "id": "771b170e",
   "metadata": {},
   "outputs": [],
   "source": [
    "# Tokenizing\n",
    "def clean3(text):\n",
    "    split=re.split(\"\\W+\",text) \n",
    "    return split"
   ]
  },
  {
   "cell_type": "code",
   "execution_count": 14,
   "id": "797fd4d1",
   "metadata": {},
   "outputs": [],
   "source": [
    "# Removing Stopwords\n",
    "stopword = set(stopwords.words('english'))\n",
    "stopword.add('interview')\n",
    "stopword.add('question')\n",
    "stopword.add('the')\n",
    "stopword.add('i')\n",
    "stopword.add('recruiter')\n",
    "def clean2(text):\n",
    "    return \" \".join([word for word in str(text).split() if word not in stopword])"
   ]
  },
  {
   "cell_type": "code",
   "execution_count": 15,
   "id": "74e7aad9",
   "metadata": {},
   "outputs": [],
   "source": [
    "# Tokenizing\n",
    "def clean3(text):\n",
    "    split=re.split(\"\\W+\",text) \n",
    "    return split"
   ]
  },
  {
   "cell_type": "code",
   "execution_count": 16,
   "id": "01947680",
   "metadata": {},
   "outputs": [],
   "source": [
    "# Lemmatizing\n",
    "'''In order to avoid that the different parts of speech of the \n",
    "same word will disturb our analysis, we need to restore their form.'''\n",
    "lemmatizer = WordNetLemmatizer()\n",
    "def lemmatize_words(text):\n",
    "    return \" \".join([lemmatizer.lemmatize(word) for word in text])"
   ]
  },
  {
   "cell_type": "code",
   "execution_count": 17,
   "id": "d1578345",
   "metadata": {},
   "outputs": [
    {
     "data": {
      "text/plain": [
       "'Multi-step interview process with long lulls between the interviews. The interviews were more substantive as I progressing in the process. The initial interview was simply a screener with human resources. Behavioral questions and questions regarding my experience.'"
      ]
     },
     "execution_count": 17,
     "metadata": {},
     "output_type": "execute_result"
    }
   ],
   "source": [
    "data[\"combined\"][0]"
   ]
  },
  {
   "cell_type": "code",
   "execution_count": 18,
   "id": "54b40f4d",
   "metadata": {},
   "outputs": [],
   "source": [
    "combined1 = data[data[\"period\"] == 1][\"combined\"]\n",
    "combined2 = data[data[\"period\"] == 2][\"combined\"]\n",
    "combined3 = data[data[\"period\"] == 3][\"combined\"]"
   ]
  },
  {
   "cell_type": "code",
   "execution_count": 19,
   "id": "99fbb576",
   "metadata": {},
   "outputs": [],
   "source": [
    "period1count=3751\n",
    "period2count=182\n",
    "period3count=665"
   ]
  },
  {
   "cell_type": "code",
   "execution_count": 20,
   "id": "6ac2ecd8",
   "metadata": {},
   "outputs": [],
   "source": [
    "def dataprocessing(target):\n",
    "    target = target.apply(lambda x: clean1(x))\n",
    "    target = target.apply(lambda x: clean3(x))\n",
    "    target = target.apply(lambda x: clean2(x))\n",
    "    target = target.apply(lambda x: clean3(x))\n",
    "    target = target.apply(lambda text: lemmatize_words(text))\n",
    "    output = \" \".join(target.tolist())\n",
    "    return output"
   ]
  },
  {
   "cell_type": "code",
   "execution_count": 21,
   "id": "74130774",
   "metadata": {},
   "outputs": [],
   "source": [
    "period1combined = dataprocessing(combined1)\n",
    "period2combined = dataprocessing(combined2)\n",
    "period3combined = dataprocessing(combined3)"
   ]
  },
  {
   "cell_type": "code",
   "execution_count": 22,
   "id": "9aa2b923",
   "metadata": {},
   "outputs": [],
   "source": [
    "# Finding most repeated words in the data\n",
    "def top_words(text,words,count):\n",
    "    allWords = nltk.tokenize.word_tokenize(text)\n",
    "    stopwords = nltk.corpus.stopwords.words('english')\n",
    "    stopwords = set(stopwords)\n",
    "    appendlist = {\"the\",\"i\",'interviewer',\"interview\",\"wa\",\"recruiter\",\"process\",\"question\",\"one\",\"would\",\"1\",'2','3','4','5','6','asked','got','hr'}\n",
    "    stopwords.update(appendlist)\n",
    "    allWordExceptStopDist = nltk.FreqDist([w.lower() for w in allWords if w.lower() not in list(stopwords)])   \n",
    "    mostCommontuples= allWordExceptStopDist.most_common(words)\n",
    "    mostCommon = [(tupl[0],round(tupl[1]/count,2)) for tupl in mostCommontuples]\n",
    "    return mostCommon"
   ]
  },
  {
   "cell_type": "markdown",
   "id": "f77adee8",
   "metadata": {},
   "source": [
    "#### High frequency words for different kinds of situations"
   ]
  },
  {
   "cell_type": "code",
   "execution_count": 23,
   "id": "6aec2846",
   "metadata": {},
   "outputs": [],
   "source": [
    "type1p1 = top_words(period1combined,100,period1count)"
   ]
  },
  {
   "cell_type": "code",
   "execution_count": 24,
   "id": "f3f3f461",
   "metadata": {},
   "outputs": [],
   "source": [
    "type1p2 = top_words(period2combined,100,period2count)"
   ]
  },
  {
   "cell_type": "code",
   "execution_count": 25,
   "id": "2450b3ec",
   "metadata": {},
   "outputs": [],
   "source": [
    "type1p3 = top_words(period2combined,100,period3count)"
   ]
  },
  {
   "cell_type": "code",
   "execution_count": 26,
   "id": "286edc73",
   "metadata": {},
   "outputs": [],
   "source": [
    "def foundchange(list1,list2):\n",
    "    output = {}\n",
    "    for word1 in list1:\n",
    "        for word2 in list2:\n",
    "            if word1[0] == word2[0]:\n",
    "                percentchange = round(word2[1]/word1[1] - 1,2)\n",
    "                if percentchange >= 0.5 or percentchange <= -0.5:\n",
    "                    output[word1[0]] = percentchange\n",
    "    return output"
   ]
  },
  {
   "cell_type": "code",
   "execution_count": 27,
   "id": "86c728ee",
   "metadata": {},
   "outputs": [],
   "source": [
    "def standard(lst,aimdic):\n",
    "    output = {}\n",
    "    total = []\n",
    "    for word in aimdic.keys():\n",
    "        for word1 in lst:\n",
    "            if word1[0] == word:\n",
    "                total.append(word1[1])\n",
    "    average = sum(total) / len(total)\n",
    "    for word in aimdic.keys():\n",
    "        for word1 in lst:\n",
    "            if word1[0] == word:\n",
    "                output[word] = round(word1[1]/average,2)\n",
    "    return output"
   ]
  },
  {
   "cell_type": "code",
   "execution_count": 28,
   "id": "cc0fc99f",
   "metadata": {},
   "outputs": [],
   "source": [
    "def foundchangeforp2to3(aimdic2,aimdic3):\n",
    "    output = {}\n",
    "    for word2 in aimdic2.keys():\n",
    "        for word3 in aimdic3.keys():\n",
    "            if word2 == word3:\n",
    "                output[word2] = round((aimdic3[word2])/(aimdic2[word2])-1,2)\n",
    "    return output"
   ]
  },
  {
   "cell_type": "code",
   "execution_count": 29,
   "id": "1273e09c",
   "metadata": {},
   "outputs": [
    {
     "name": "stdout",
     "output_type": "stream",
     "text": [
      "{'round': 0.68, 'amazon': 0.66, 'online': 0.57, 'team': 0.58, 'coding': 0.67, 'tell': 0.75, 'role': 0.74, 'based': 0.93, 'design': 0.65, 'behavioral': 1.16, 'leadership': 1.62, 'situation': 0.53, 'min': 0.89}\n"
     ]
    }
   ],
   "source": [
    "change1 = foundchange(type1p1,type1p2)\n",
    "print(change1)"
   ]
  },
  {
   "cell_type": "code",
   "execution_count": 30,
   "id": "719d946e",
   "metadata": {},
   "outputs": [],
   "source": [
    "stand1 = standard(type1p2,foundchange(type1p1,type1p2))"
   ]
  },
  {
   "cell_type": "code",
   "execution_count": 31,
   "id": "6080955b",
   "metadata": {},
   "outputs": [],
   "source": [
    "stand2 = standard(type1p3,foundchange(type1p1,type1p2))"
   ]
  },
  {
   "cell_type": "code",
   "execution_count": 32,
   "id": "1ad7b442",
   "metadata": {},
   "outputs": [],
   "source": [
    "change2 = foundchangeforp2to3(standard(type1p2,foundchange(type1p1,type1p2)),standard(type1p3,foundchange(type1p1,type1p2)))"
   ]
  },
  {
   "cell_type": "code",
   "execution_count": 33,
   "id": "fa5f3719",
   "metadata": {},
   "outputs": [],
   "source": [
    "relatedword = ['online','team','role','leadership']"
   ]
  },
  {
   "cell_type": "code",
   "execution_count": 34,
   "id": "5bed9731",
   "metadata": {},
   "outputs": [],
   "source": [
    "def preplot(wordlist,changep1,changep2,intialfrequent):\n",
    "    output = {}\n",
    "    for word in wordlist:\n",
    "        for word1 in intialfrequent:\n",
    "            if word == word1[0]:\n",
    "                initial = word1[1]\n",
    "                p2 = round(initial * (changep1[word]+1),2)\n",
    "                p3 = round(p2 * (changep2[word]+1),2)\n",
    "                output[word] = [initial, p2, p3]\n",
    "    return output"
   ]
  },
  {
   "cell_type": "code",
   "execution_count": 35,
   "id": "c54be200",
   "metadata": {},
   "outputs": [
    {
     "data": {
      "text/plain": [
       "{'online': [2.59, 4.07, 4.07],\n",
       " 'team': [1.87, 2.95, 2.95],\n",
       " 'role': [1.35, 2.35, 2.35],\n",
       " 'leadership': [0.9, 2.36, 2.36]}"
      ]
     },
     "execution_count": 35,
     "metadata": {},
     "output_type": "execute_result"
    }
   ],
   "source": [
    "preplot(relatedword,change1,change2,type1p1)"
   ]
  },
  {
   "cell_type": "code",
   "execution_count": 36,
   "id": "ec30f6ca",
   "metadata": {},
   "outputs": [],
   "source": [
    "period = [\"before 2019-12-31\",\"2019-12-31 to 2020-06-30\", \"after 2020-06-30\"]"
   ]
  },
  {
   "cell_type": "code",
   "execution_count": 37,
   "id": "961703a8",
   "metadata": {},
   "outputs": [],
   "source": [
    "def plot(preplot,period):\n",
    "    for word,change in preplot.items():\n",
    "        plt.plot(period,change,label=word)\n",
    "    plt.title('Word changes')\n",
    "    plt.xlabel('period')\n",
    "    plt.ylabel('frequency/day')\n",
    "    plt.legend()"
   ]
  },
  {
   "cell_type": "code",
   "execution_count": 38,
   "id": "b0323676",
   "metadata": {},
   "outputs": [
    {
     "data": {
      "image/png": "[encoded data removed]",
      "text/plain": [
       "<Figure size 432x288 with 1 Axes>"
      ]
     },
     "metadata": {
      "needs_background": "light"
     },
     "output_type": "display_data"
    }
   ],
   "source": [
    "plot(preplot(relatedword,change1,change2,type1p1),period)"
   ]
  }
 ],
 "metadata": {
  "kernelspec": {
   "display_name": "Python 3",
   "language": "python",
   "name": "python3"
  },
  "language_info": {
   "codemirror_mode": {
    "name": "ipython",
    "version": 3
   },
   "file_extension": ".py",
   "mimetype": "text/x-python",
   "name": "python",
   "nbconvert_exporter": "python",
   "pygments_lexer": "ipython3",
   "version": "3.8.8"
  }
 },
 "nbformat": 4,
 "nbformat_minor": 5
}
