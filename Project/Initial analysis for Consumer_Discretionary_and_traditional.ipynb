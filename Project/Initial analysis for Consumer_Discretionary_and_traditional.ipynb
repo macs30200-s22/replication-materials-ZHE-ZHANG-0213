{
 "cells": [
  {
   "cell_type": "code",
   "execution_count": 1,
   "id": "fd4a7362",
   "metadata": {},
   "outputs": [],
   "source": [
    "# import the packages used for analysis\n",
    "import nltk\n",
    "import pandas as pd\n",
    "import numpy as np\n",
    "import string\n",
    "import regex as re\n",
    "\n",
    "import matplotlib.pyplot as plt\n",
    "from nltk.corpus import stopwords\n",
    "from nltk.stem import WordNetLemmatizer\n",
    "from wordcloud import WordCloud, STOPWORDS\n",
    "from sklearn.neighbors import KNeighborsClassifier\n",
    "from sklearn.model_selection import train_test_split\n",
    "from sklearn.feature_extraction.text import TfidfVectorizer\n",
    "from sklearn.metrics import accuracy_score, recall_score\n",
    "from sklearn.metrics import classification_report\n",
    "from sklearn.ensemble import RandomForestClassifier\n",
    "from sklearn.naive_bayes import MultinomialNB\n",
    "from sklearn import feature_extraction, model_selection, metrics, svm"
   ]
  },
  {
   "cell_type": "code",
   "execution_count": 2,
   "id": "11f05a8e",
   "metadata": {},
   "outputs": [],
   "source": [
    "import datetime\n",
    "import spacy\n",
    "import math"
   ]
  },
  {
   "cell_type": "code",
   "execution_count": 3,
   "id": "6f7479f4",
   "metadata": {},
   "outputs": [],
   "source": [
    "data = pd.read_csv('Consumer_Discretionary_and_traditional.csv')      # reading data"
   ]
  },
  {
   "cell_type": "code",
   "execution_count": 4,
   "id": "dd975a0e",
   "metadata": {},
   "outputs": [
    {
     "data": {
      "text/html": [
       "<div>\n",
       "<style scoped>\n",
       "    .dataframe tbody tr th:only-of-type {\n",
       "        vertical-align: middle;\n",
       "    }\n",
       "\n",
       "    .dataframe tbody tr th {\n",
       "        vertical-align: top;\n",
       "    }\n",
       "\n",
       "    .dataframe thead th {\n",
       "        text-align: right;\n",
       "    }\n",
       "</style>\n",
       "<table border=\"1\" class=\"dataframe\">\n",
       "  <thead>\n",
       "    <tr style=\"text-align: right;\">\n",
       "      <th></th>\n",
       "      <th>Unnamed: 0</th>\n",
       "      <th>Time</th>\n",
       "      <th>Title</th>\n",
       "      <th>SubTitle</th>\n",
       "      <th>Declined Offer</th>\n",
       "      <th>Neutral Experience</th>\n",
       "      <th>Average Interview</th>\n",
       "      <th>Application</th>\n",
       "      <th>Interview</th>\n",
       "      <th>InterviewQuestions</th>\n",
       "      <th>date</th>\n",
       "    </tr>\n",
       "  </thead>\n",
       "  <tbody>\n",
       "    <tr>\n",
       "      <th>0</th>\n",
       "      <td>1</td>\n",
       "      <td>Apr 26, 2022</td>\n",
       "      <td>Barista Interview</td>\n",
       "      <td>Anonymous Interview Candidate in Sarasota, FL</td>\n",
       "      <td>neutral</td>\n",
       "      <td>good</td>\n",
       "      <td>good</td>\n",
       "      <td>I applied online. I interviewed at Starbucks (...</td>\n",
       "      <td>East, quick, simple questions. The person I me...</td>\n",
       "      <td>Tell us about your previous experience.</td>\n",
       "      <td>2022-04-26</td>\n",
       "    </tr>\n",
       "    <tr>\n",
       "      <th>1</th>\n",
       "      <td>2</td>\n",
       "      <td>Apr 26, 2022</td>\n",
       "      <td>Barista Interview</td>\n",
       "      <td>Anonymous Employee</td>\n",
       "      <td>good</td>\n",
       "      <td>good</td>\n",
       "      <td>good</td>\n",
       "      <td>I interviewed at Starbucks</td>\n",
       "      <td>The interview process was very simple and I en...</td>\n",
       "      <td>Tell me a little about yourself?</td>\n",
       "      <td>2022-04-26</td>\n",
       "    </tr>\n",
       "    <tr>\n",
       "      <th>2</th>\n",
       "      <td>3</td>\n",
       "      <td>Apr 25, 2022</td>\n",
       "      <td>Barista Interview</td>\n",
       "      <td>Anonymous Employee in Roseville, CA</td>\n",
       "      <td>good</td>\n",
       "      <td>good</td>\n",
       "      <td>good</td>\n",
       "      <td>I applied in-person. I interviewed at Starbuck...</td>\n",
       "      <td>Interview was fairly easy. It was just a simpl...</td>\n",
       "      <td>What are some duties you believe a barista has?</td>\n",
       "      <td>2022-04-25</td>\n",
       "    </tr>\n",
       "    <tr>\n",
       "      <th>3</th>\n",
       "      <td>4</td>\n",
       "      <td>Apr 25, 2022</td>\n",
       "      <td>Barista - Starbucks Interview</td>\n",
       "      <td>Anonymous Employee in Albuquerque, NM</td>\n",
       "      <td>good</td>\n",
       "      <td>good</td>\n",
       "      <td>good</td>\n",
       "      <td>I applied online. I interviewed at Starbucks (...</td>\n",
       "      <td>one on one Interview with the store manager. V...</td>\n",
       "      <td>Best part of thee job in your opinion.</td>\n",
       "      <td>2022-04-25</td>\n",
       "    </tr>\n",
       "    <tr>\n",
       "      <th>4</th>\n",
       "      <td>5</td>\n",
       "      <td>Apr 25, 2022</td>\n",
       "      <td>Barista Interview</td>\n",
       "      <td>Anonymous Interview Candidate in Iowa City, IA</td>\n",
       "      <td>neutral</td>\n",
       "      <td>good</td>\n",
       "      <td>good</td>\n",
       "      <td>I applied online. The process took 2 weeks. I ...</td>\n",
       "      <td>Received a phone call from manager and came in...</td>\n",
       "      <td>How do you work with a team?</td>\n",
       "      <td>2022-04-25</td>\n",
       "    </tr>\n",
       "  </tbody>\n",
       "</table>\n",
       "</div>"
      ],
      "text/plain": [
       "   Unnamed: 0          Time                          Title  \\\n",
       "0           1  Apr 26, 2022              Barista Interview   \n",
       "1           2  Apr 26, 2022              Barista Interview   \n",
       "2           3  Apr 25, 2022              Barista Interview   \n",
       "3           4  Apr 25, 2022  Barista - Starbucks Interview   \n",
       "4           5  Apr 25, 2022              Barista Interview   \n",
       "\n",
       "                                         SubTitle Declined Offer  \\\n",
       "0   Anonymous Interview Candidate in Sarasota, FL        neutral   \n",
       "1                              Anonymous Employee           good   \n",
       "2             Anonymous Employee in Roseville, CA           good   \n",
       "3           Anonymous Employee in Albuquerque, NM           good   \n",
       "4  Anonymous Interview Candidate in Iowa City, IA        neutral   \n",
       "\n",
       "  Neutral Experience Average Interview  \\\n",
       "0               good              good   \n",
       "1               good              good   \n",
       "2               good              good   \n",
       "3               good              good   \n",
       "4               good              good   \n",
       "\n",
       "                                         Application  \\\n",
       "0  I applied online. I interviewed at Starbucks (...   \n",
       "1                         I interviewed at Starbucks   \n",
       "2  I applied in-person. I interviewed at Starbuck...   \n",
       "3  I applied online. I interviewed at Starbucks (...   \n",
       "4  I applied online. The process took 2 weeks. I ...   \n",
       "\n",
       "                                           Interview  \\\n",
       "0  East, quick, simple questions. The person I me...   \n",
       "1  The interview process was very simple and I en...   \n",
       "2  Interview was fairly easy. It was just a simpl...   \n",
       "3  one on one Interview with the store manager. V...   \n",
       "4  Received a phone call from manager and came in...   \n",
       "\n",
       "                                InterviewQuestions        date  \n",
       "0          Tell us about your previous experience.  2022-04-26  \n",
       "1                 Tell me a little about yourself?  2022-04-26  \n",
       "2  What are some duties you believe a barista has?  2022-04-25  \n",
       "3           Best part of thee job in your opinion.  2022-04-25  \n",
       "4                     How do you work with a team?  2022-04-25  "
      ]
     },
     "execution_count": 4,
     "metadata": {},
     "output_type": "execute_result"
    }
   ],
   "source": [
    "data.head(5)"
   ]
  },
  {
   "cell_type": "code",
   "execution_count": 5,
   "id": "b74248ed",
   "metadata": {},
   "outputs": [
    {
     "data": {
      "text/plain": [
       "'East, quick, simple questions. The person I met with was kind and respectful. Hours are random though. I did not end up taking the position even though I was offered the job. Tell us about your previous experience.'"
      ]
     },
     "execution_count": 5,
     "metadata": {},
     "output_type": "execute_result"
    }
   ],
   "source": [
    "data['combined'] = data['Interview'] + ' ' +  data['InterviewQuestions']\n",
    "data.iloc[0].combined"
   ]
  },
  {
   "cell_type": "code",
   "execution_count": 6,
   "id": "8c259fa3",
   "metadata": {},
   "outputs": [],
   "source": [
    "data.loc[data.date <= '2019-12-31', 'period'] = 1\n",
    "data.loc[(data.date > '2019-12-31') & (data.date <= '2020-06-30'), 'period'] = 2\n",
    "data.loc[data.date > '2020-06-30', 'period'] = 3\n",
    "data['period_count'] = data.groupby('period')['date'].transform(lambda a: len(set(a)))"
   ]
  },
  {
   "cell_type": "markdown",
   "id": "f3ced8a0",
   "metadata": {},
   "source": [
    "#### Initialize data"
   ]
  },
  {
   "cell_type": "code",
   "execution_count": 7,
   "id": "c1074d03",
   "metadata": {},
   "outputs": [
    {
     "name": "stdout",
     "output_type": "stream",
     "text": [
      "<class 'pandas.core.frame.DataFrame'>\n",
      "RangeIndex: 32187 entries, 0 to 32186\n",
      "Data columns (total 14 columns):\n",
      " #   Column              Non-Null Count  Dtype  \n",
      "---  ------              --------------  -----  \n",
      " 0   Unnamed: 0          32187 non-null  int64  \n",
      " 1   Time                32187 non-null  object \n",
      " 2   Title               32187 non-null  object \n",
      " 3   SubTitle            32187 non-null  object \n",
      " 4   Declined Offer      32187 non-null  object \n",
      " 5   Neutral Experience  32187 non-null  object \n",
      " 6   Average Interview   32187 non-null  object \n",
      " 7   Application         32187 non-null  object \n",
      " 8   Interview           32187 non-null  object \n",
      " 9   InterviewQuestions  32171 non-null  object \n",
      " 10  date                32187 non-null  object \n",
      " 11  combined            32171 non-null  object \n",
      " 12  period              32187 non-null  float64\n",
      " 13  period_count        32187 non-null  int64  \n",
      "dtypes: float64(1), int64(2), object(11)\n",
      "memory usage: 3.4+ MB\n"
     ]
    }
   ],
   "source": [
    "data.info()"
   ]
  },
  {
   "cell_type": "code",
   "execution_count": 8,
   "id": "eec3762e",
   "metadata": {},
   "outputs": [
    {
     "data": {
      "text/plain": [
       "array([[<AxesSubplot:title={'center':'bad'}>,\n",
       "        <AxesSubplot:title={'center':'good'}>],\n",
       "       [<AxesSubplot:title={'center':'neutral'}>, <AxesSubplot:>]],\n",
       "      dtype=object)"
      ]
     },
     "execution_count": 8,
     "metadata": {},
     "output_type": "execute_result"
    },
    {
     "data": {
      "image/png": "[encoded data removed]",
      "text/plain": [
       "<Figure size 1152x576 with 4 Axes>"
      ]
     },
     "metadata": {
      "needs_background": "light"
     },
     "output_type": "display_data"
    }
   ],
   "source": [
    "data['length'] = data['Interview'].apply(len)\n",
    "data.hist(column='length',by='Declined Offer',bins=100, figsize=(16,8))"
   ]
  },
  {
   "cell_type": "code",
   "execution_count": 9,
   "id": "2b0032a4",
   "metadata": {},
   "outputs": [
    {
     "data": {
      "text/plain": [
       "Unnamed: 0             0\n",
       "Time                   0\n",
       "Title                  0\n",
       "SubTitle               0\n",
       "Declined Offer         0\n",
       "Neutral Experience     0\n",
       "Average Interview      0\n",
       "Application            0\n",
       "Interview              0\n",
       "InterviewQuestions    16\n",
       "date                   0\n",
       "combined              16\n",
       "period                 0\n",
       "period_count           0\n",
       "length                 0\n",
       "dtype: int64"
      ]
     },
     "execution_count": 9,
     "metadata": {},
     "output_type": "execute_result"
    }
   ],
   "source": [
    "# Checking null/missing values\n",
    "data.isnull().sum()"
   ]
  },
  {
   "cell_type": "code",
   "execution_count": 10,
   "id": "c98203f0",
   "metadata": {},
   "outputs": [
    {
     "data": {
      "text/plain": [
       "0                  Tell us about your previous experience.\n",
       "1                         Tell me a little about yourself?\n",
       "2          What are some duties you believe a barista has?\n",
       "3                   Best part of thee job in your opinion.\n",
       "4                             How do you work with a team?\n",
       "                               ...                        \n",
       "32182    What are your plans to turn around the sales i...\n",
       "32183                           I didnt have an interview.\n",
       "32184           How familiar are you with a P&L Statement?\n",
       "32185    The most unexpected interview question I was a...\n",
       "32186    The most difficult question had to do with my ...\n",
       "Name: InterviewQuestions, Length: 32187, dtype: object"
      ]
     },
     "execution_count": 10,
     "metadata": {},
     "output_type": "execute_result"
    }
   ],
   "source": [
    "data.InterviewQuestions"
   ]
  },
  {
   "cell_type": "code",
   "execution_count": 11,
   "id": "70477a5d",
   "metadata": {},
   "outputs": [
    {
     "data": {
      "text/html": [
       "<div>\n",
       "<style scoped>\n",
       "    .dataframe tbody tr th:only-of-type {\n",
       "        vertical-align: middle;\n",
       "    }\n",
       "\n",
       "    .dataframe tbody tr th {\n",
       "        vertical-align: top;\n",
       "    }\n",
       "\n",
       "    .dataframe thead th {\n",
       "        text-align: right;\n",
       "    }\n",
       "</style>\n",
       "<table border=\"1\" class=\"dataframe\">\n",
       "  <thead>\n",
       "    <tr style=\"text-align: right;\">\n",
       "      <th></th>\n",
       "      <th>Unnamed: 0</th>\n",
       "      <th>Time</th>\n",
       "      <th>Title</th>\n",
       "      <th>SubTitle</th>\n",
       "      <th>Declined Offer</th>\n",
       "      <th>Neutral Experience</th>\n",
       "      <th>Average Interview</th>\n",
       "      <th>Application</th>\n",
       "      <th>Interview</th>\n",
       "      <th>InterviewQuestions</th>\n",
       "      <th>date</th>\n",
       "      <th>combined</th>\n",
       "      <th>period</th>\n",
       "      <th>period_count</th>\n",
       "      <th>length</th>\n",
       "    </tr>\n",
       "  </thead>\n",
       "  <tbody>\n",
       "    <tr>\n",
       "      <th>0</th>\n",
       "      <td>1</td>\n",
       "      <td>Apr 26, 2022</td>\n",
       "      <td>Barista Interview</td>\n",
       "      <td>Anonymous Interview Candidate in Sarasota, FL</td>\n",
       "      <td>neutral</td>\n",
       "      <td>good</td>\n",
       "      <td>good</td>\n",
       "      <td>I applied online. I interviewed at Starbucks (...</td>\n",
       "      <td>East, quick, simple questions. The person I me...</td>\n",
       "      <td>Tell us about your previous experience.</td>\n",
       "      <td>2022-04-26</td>\n",
       "      <td>East, quick, simple questions. The person I me...</td>\n",
       "      <td>3.0</td>\n",
       "      <td>664</td>\n",
       "      <td>174</td>\n",
       "    </tr>\n",
       "    <tr>\n",
       "      <th>1</th>\n",
       "      <td>2</td>\n",
       "      <td>Apr 26, 2022</td>\n",
       "      <td>Barista Interview</td>\n",
       "      <td>Anonymous Employee</td>\n",
       "      <td>good</td>\n",
       "      <td>good</td>\n",
       "      <td>good</td>\n",
       "      <td>I interviewed at Starbucks</td>\n",
       "      <td>The interview process was very simple and I en...</td>\n",
       "      <td>Tell me a little about yourself?</td>\n",
       "      <td>2022-04-26</td>\n",
       "      <td>The interview process was very simple and I en...</td>\n",
       "      <td>3.0</td>\n",
       "      <td>664</td>\n",
       "      <td>224</td>\n",
       "    </tr>\n",
       "    <tr>\n",
       "      <th>2</th>\n",
       "      <td>3</td>\n",
       "      <td>Apr 25, 2022</td>\n",
       "      <td>Barista Interview</td>\n",
       "      <td>Anonymous Employee in Roseville, CA</td>\n",
       "      <td>good</td>\n",
       "      <td>good</td>\n",
       "      <td>good</td>\n",
       "      <td>I applied in-person. I interviewed at Starbuck...</td>\n",
       "      <td>Interview was fairly easy. It was just a simpl...</td>\n",
       "      <td>What are some duties you believe a barista has?</td>\n",
       "      <td>2022-04-25</td>\n",
       "      <td>Interview was fairly easy. It was just a simpl...</td>\n",
       "      <td>3.0</td>\n",
       "      <td>664</td>\n",
       "      <td>186</td>\n",
       "    </tr>\n",
       "    <tr>\n",
       "      <th>3</th>\n",
       "      <td>4</td>\n",
       "      <td>Apr 25, 2022</td>\n",
       "      <td>Barista - Starbucks Interview</td>\n",
       "      <td>Anonymous Employee in Albuquerque, NM</td>\n",
       "      <td>good</td>\n",
       "      <td>good</td>\n",
       "      <td>good</td>\n",
       "      <td>I applied online. I interviewed at Starbucks (...</td>\n",
       "      <td>one on one Interview with the store manager. V...</td>\n",
       "      <td>Best part of thee job in your opinion.</td>\n",
       "      <td>2022-04-25</td>\n",
       "      <td>one on one Interview with the store manager. V...</td>\n",
       "      <td>3.0</td>\n",
       "      <td>664</td>\n",
       "      <td>183</td>\n",
       "    </tr>\n",
       "    <tr>\n",
       "      <th>4</th>\n",
       "      <td>5</td>\n",
       "      <td>Apr 25, 2022</td>\n",
       "      <td>Barista Interview</td>\n",
       "      <td>Anonymous Interview Candidate in Iowa City, IA</td>\n",
       "      <td>neutral</td>\n",
       "      <td>good</td>\n",
       "      <td>good</td>\n",
       "      <td>I applied online. The process took 2 weeks. I ...</td>\n",
       "      <td>Received a phone call from manager and came in...</td>\n",
       "      <td>How do you work with a team?</td>\n",
       "      <td>2022-04-25</td>\n",
       "      <td>Received a phone call from manager and came in...</td>\n",
       "      <td>3.0</td>\n",
       "      <td>664</td>\n",
       "      <td>293</td>\n",
       "    </tr>\n",
       "    <tr>\n",
       "      <th>...</th>\n",
       "      <td>...</td>\n",
       "      <td>...</td>\n",
       "      <td>...</td>\n",
       "      <td>...</td>\n",
       "      <td>...</td>\n",
       "      <td>...</td>\n",
       "      <td>...</td>\n",
       "      <td>...</td>\n",
       "      <td>...</td>\n",
       "      <td>...</td>\n",
       "      <td>...</td>\n",
       "      <td>...</td>\n",
       "      <td>...</td>\n",
       "      <td>...</td>\n",
       "      <td>...</td>\n",
       "    </tr>\n",
       "    <tr>\n",
       "      <th>32182</th>\n",
       "      <td>1427</td>\n",
       "      <td>Oct 13, 2010</td>\n",
       "      <td>General Manager Interview</td>\n",
       "      <td>Anonymous Employee in Phoenix, AZ</td>\n",
       "      <td>good</td>\n",
       "      <td>neutral</td>\n",
       "      <td>neutral</td>\n",
       "      <td>The process took 1 day. I interviewed at Domin...</td>\n",
       "      <td>I already had experience as a GM for a franchi...</td>\n",
       "      <td>What are your plans to turn around the sales i...</td>\n",
       "      <td>2010-10-13</td>\n",
       "      <td>I already had experience as a GM for a franchi...</td>\n",
       "      <td>1.0</td>\n",
       "      <td>3593</td>\n",
       "      <td>569</td>\n",
       "    </tr>\n",
       "    <tr>\n",
       "      <th>32183</th>\n",
       "      <td>1428</td>\n",
       "      <td>Aug 18, 2010</td>\n",
       "      <td>Dominos Delivery Driver Interview</td>\n",
       "      <td>Anonymous Employee in Logan, UT</td>\n",
       "      <td>good</td>\n",
       "      <td>good</td>\n",
       "      <td>good</td>\n",
       "      <td>I applied in-person. The process took 1 day. I...</td>\n",
       "      <td>I simply walked in to the local Domino's and a...</td>\n",
       "      <td>I didnt have an interview.</td>\n",
       "      <td>2010-08-18</td>\n",
       "      <td>I simply walked in to the local Domino's and a...</td>\n",
       "      <td>1.0</td>\n",
       "      <td>3593</td>\n",
       "      <td>182</td>\n",
       "    </tr>\n",
       "    <tr>\n",
       "      <th>32184</th>\n",
       "      <td>1429</td>\n",
       "      <td>Aug 13, 2010</td>\n",
       "      <td>Assistant Manager Interview</td>\n",
       "      <td>Anonymous Interview Candidate in Pensacola, FL</td>\n",
       "      <td>bad</td>\n",
       "      <td>bad</td>\n",
       "      <td>good</td>\n",
       "      <td>The process took 1 day. I interviewed at Domin...</td>\n",
       "      <td>I applied online and heard from the company ab...</td>\n",
       "      <td>How familiar are you with a P&amp;L Statement?</td>\n",
       "      <td>2010-08-13</td>\n",
       "      <td>I applied online and heard from the company ab...</td>\n",
       "      <td>1.0</td>\n",
       "      <td>3593</td>\n",
       "      <td>1749</td>\n",
       "    </tr>\n",
       "    <tr>\n",
       "      <th>32185</th>\n",
       "      <td>1430</td>\n",
       "      <td>Jul 29, 2010</td>\n",
       "      <td>Customer Service Representative Interview</td>\n",
       "      <td>Anonymous Employee in MISSING VALUE</td>\n",
       "      <td>good</td>\n",
       "      <td>neutral</td>\n",
       "      <td>good</td>\n",
       "      <td>I applied through an employee referral The pro...</td>\n",
       "      <td>My manager picks people at random for intervie...</td>\n",
       "      <td>The most unexpected interview question I was a...</td>\n",
       "      <td>2010-07-29</td>\n",
       "      <td>My manager picks people at random for intervie...</td>\n",
       "      <td>1.0</td>\n",
       "      <td>3593</td>\n",
       "      <td>251</td>\n",
       "    </tr>\n",
       "    <tr>\n",
       "      <th>32186</th>\n",
       "      <td>1431</td>\n",
       "      <td>Jul 27, 2010</td>\n",
       "      <td>Software Developer Interview</td>\n",
       "      <td>Anonymous Interview Candidate in Ann Arbor, MI</td>\n",
       "      <td>neutral</td>\n",
       "      <td>neutral</td>\n",
       "      <td>good</td>\n",
       "      <td>I applied through a recruiter. The process too...</td>\n",
       "      <td>Domino's has a very formal hiring practice, ho...</td>\n",
       "      <td>The most difficult question had to do with my ...</td>\n",
       "      <td>2010-07-27</td>\n",
       "      <td>Domino's has a very formal hiring practice, ho...</td>\n",
       "      <td>1.0</td>\n",
       "      <td>3593</td>\n",
       "      <td>759</td>\n",
       "    </tr>\n",
       "  </tbody>\n",
       "</table>\n",
       "<p>32187 rows × 15 columns</p>\n",
       "</div>"
      ],
      "text/plain": [
       "       Unnamed: 0          Time                                      Title  \\\n",
       "0               1  Apr 26, 2022                          Barista Interview   \n",
       "1               2  Apr 26, 2022                          Barista Interview   \n",
       "2               3  Apr 25, 2022                          Barista Interview   \n",
       "3               4  Apr 25, 2022              Barista - Starbucks Interview   \n",
       "4               5  Apr 25, 2022                          Barista Interview   \n",
       "...           ...           ...                                        ...   \n",
       "32182        1427  Oct 13, 2010                  General Manager Interview   \n",
       "32183        1428  Aug 18, 2010          Dominos Delivery Driver Interview   \n",
       "32184        1429  Aug 13, 2010                Assistant Manager Interview   \n",
       "32185        1430  Jul 29, 2010  Customer Service Representative Interview   \n",
       "32186        1431  Jul 27, 2010               Software Developer Interview   \n",
       "\n",
       "                                             SubTitle Declined Offer  \\\n",
       "0       Anonymous Interview Candidate in Sarasota, FL        neutral   \n",
       "1                                  Anonymous Employee           good   \n",
       "2                 Anonymous Employee in Roseville, CA           good   \n",
       "3               Anonymous Employee in Albuquerque, NM           good   \n",
       "4      Anonymous Interview Candidate in Iowa City, IA        neutral   \n",
       "...                                               ...            ...   \n",
       "32182               Anonymous Employee in Phoenix, AZ           good   \n",
       "32183                 Anonymous Employee in Logan, UT           good   \n",
       "32184  Anonymous Interview Candidate in Pensacola, FL            bad   \n",
       "32185             Anonymous Employee in MISSING VALUE           good   \n",
       "32186  Anonymous Interview Candidate in Ann Arbor, MI        neutral   \n",
       "\n",
       "      Neutral Experience Average Interview  \\\n",
       "0                   good              good   \n",
       "1                   good              good   \n",
       "2                   good              good   \n",
       "3                   good              good   \n",
       "4                   good              good   \n",
       "...                  ...               ...   \n",
       "32182            neutral           neutral   \n",
       "32183               good              good   \n",
       "32184                bad              good   \n",
       "32185            neutral              good   \n",
       "32186            neutral              good   \n",
       "\n",
       "                                             Application  \\\n",
       "0      I applied online. I interviewed at Starbucks (...   \n",
       "1                             I interviewed at Starbucks   \n",
       "2      I applied in-person. I interviewed at Starbuck...   \n",
       "3      I applied online. I interviewed at Starbucks (...   \n",
       "4      I applied online. The process took 2 weeks. I ...   \n",
       "...                                                  ...   \n",
       "32182  The process took 1 day. I interviewed at Domin...   \n",
       "32183  I applied in-person. The process took 1 day. I...   \n",
       "32184  The process took 1 day. I interviewed at Domin...   \n",
       "32185  I applied through an employee referral The pro...   \n",
       "32186  I applied through a recruiter. The process too...   \n",
       "\n",
       "                                               Interview  \\\n",
       "0      East, quick, simple questions. The person I me...   \n",
       "1      The interview process was very simple and I en...   \n",
       "2      Interview was fairly easy. It was just a simpl...   \n",
       "3      one on one Interview with the store manager. V...   \n",
       "4      Received a phone call from manager and came in...   \n",
       "...                                                  ...   \n",
       "32182  I already had experience as a GM for a franchi...   \n",
       "32183  I simply walked in to the local Domino's and a...   \n",
       "32184  I applied online and heard from the company ab...   \n",
       "32185  My manager picks people at random for intervie...   \n",
       "32186  Domino's has a very formal hiring practice, ho...   \n",
       "\n",
       "                                      InterviewQuestions        date  \\\n",
       "0                Tell us about your previous experience.  2022-04-26   \n",
       "1                       Tell me a little about yourself?  2022-04-26   \n",
       "2        What are some duties you believe a barista has?  2022-04-25   \n",
       "3                 Best part of thee job in your opinion.  2022-04-25   \n",
       "4                           How do you work with a team?  2022-04-25   \n",
       "...                                                  ...         ...   \n",
       "32182  What are your plans to turn around the sales i...  2010-10-13   \n",
       "32183                         I didnt have an interview.  2010-08-18   \n",
       "32184         How familiar are you with a P&L Statement?  2010-08-13   \n",
       "32185  The most unexpected interview question I was a...  2010-07-29   \n",
       "32186  The most difficult question had to do with my ...  2010-07-27   \n",
       "\n",
       "                                                combined  period  \\\n",
       "0      East, quick, simple questions. The person I me...     3.0   \n",
       "1      The interview process was very simple and I en...     3.0   \n",
       "2      Interview was fairly easy. It was just a simpl...     3.0   \n",
       "3      one on one Interview with the store manager. V...     3.0   \n",
       "4      Received a phone call from manager and came in...     3.0   \n",
       "...                                                  ...     ...   \n",
       "32182  I already had experience as a GM for a franchi...     1.0   \n",
       "32183  I simply walked in to the local Domino's and a...     1.0   \n",
       "32184  I applied online and heard from the company ab...     1.0   \n",
       "32185  My manager picks people at random for intervie...     1.0   \n",
       "32186  Domino's has a very formal hiring practice, ho...     1.0   \n",
       "\n",
       "       period_count  length  \n",
       "0               664     174  \n",
       "1               664     224  \n",
       "2               664     186  \n",
       "3               664     183  \n",
       "4               664     293  \n",
       "...             ...     ...  \n",
       "32182          3593     569  \n",
       "32183          3593     182  \n",
       "32184          3593    1749  \n",
       "32185          3593     251  \n",
       "32186          3593     759  \n",
       "\n",
       "[32187 rows x 15 columns]"
      ]
     },
     "execution_count": 11,
     "metadata": {},
     "output_type": "execute_result"
    }
   ],
   "source": [
    "data = data.fillna(\"\")\n",
    "data"
   ]
  },
  {
   "cell_type": "markdown",
   "id": "349fe087",
   "metadata": {},
   "source": [
    "In fact, the two texts in this experiment were not exactly equal; their ratio was 2:1. But this is the case where I've combined two data sources, and I think that's enough."
   ]
  },
  {
   "cell_type": "markdown",
   "id": "640f9efe",
   "metadata": {},
   "source": [
    "#### Preprocess data"
   ]
  },
  {
   "cell_type": "code",
   "execution_count": 12,
   "id": "644f3cd8",
   "metadata": {},
   "outputs": [],
   "source": [
    "# Removing Punctutaion\n",
    "def clean1(text):\n",
    "    words = []\n",
    "    for word in text:\n",
    "        if word not in string.punctuation:\n",
    "            words.append(word)\n",
    "    output= \"\".join(words)\n",
    "    return output"
   ]
  },
  {
   "cell_type": "code",
   "execution_count": 13,
   "id": "771b170e",
   "metadata": {},
   "outputs": [],
   "source": [
    "# Tokenizing\n",
    "def clean3(text):\n",
    "    split=re.split(\"\\W+\",text) \n",
    "    return split"
   ]
  },
  {
   "cell_type": "code",
   "execution_count": 14,
   "id": "797fd4d1",
   "metadata": {},
   "outputs": [],
   "source": [
    "# Removing Stopwords\n",
    "stopword = set(stopwords.words('english'))\n",
    "stopword.add('interview')\n",
    "stopword.add('question')\n",
    "stopword.add('the')\n",
    "stopword.add('i')\n",
    "stopword.add('recruiter')\n",
    "def clean2(text):\n",
    "    return \" \".join([word for word in str(text).split() if word not in stopword])"
   ]
  },
  {
   "cell_type": "code",
   "execution_count": 15,
   "id": "74e7aad9",
   "metadata": {},
   "outputs": [],
   "source": [
    "# Tokenizing\n",
    "def clean3(text):\n",
    "    split=re.split(\"\\W+\",text) \n",
    "    return split"
   ]
  },
  {
   "cell_type": "code",
   "execution_count": 16,
   "id": "01947680",
   "metadata": {},
   "outputs": [],
   "source": [
    "# Lemmatizing\n",
    "'''In order to avoid that the different parts of speech of the \n",
    "same word will disturb our analysis, we need to restore their form.'''\n",
    "lemmatizer = WordNetLemmatizer()\n",
    "def lemmatize_words(text):\n",
    "    return \" \".join([lemmatizer.lemmatize(word) for word in text])"
   ]
  },
  {
   "cell_type": "code",
   "execution_count": 17,
   "id": "d1578345",
   "metadata": {},
   "outputs": [
    {
     "data": {
      "text/plain": [
       "'East, quick, simple questions. The person I met with was kind and respectful. Hours are random though. I did not end up taking the position even though I was offered the job. Tell us about your previous experience.'"
      ]
     },
     "execution_count": 17,
     "metadata": {},
     "output_type": "execute_result"
    }
   ],
   "source": [
    "data[\"combined\"][0]"
   ]
  },
  {
   "cell_type": "code",
   "execution_count": 18,
   "id": "54b40f4d",
   "metadata": {},
   "outputs": [],
   "source": [
    "combined1 = data[data[\"period\"] == 1][\"combined\"]\n",
    "combined2 = data[data[\"period\"] == 2][\"combined\"]\n",
    "combined3 = data[data[\"period\"] == 3][\"combined\"]"
   ]
  },
  {
   "cell_type": "code",
   "execution_count": 19,
   "id": "5e8c71c2",
   "metadata": {},
   "outputs": [
    {
     "data": {
      "text/plain": [
       "2008     3593\n",
       "2009     3593\n",
       "2010     3593\n",
       "2011     3593\n",
       "2012     3593\n",
       "         ... \n",
       "32182    3593\n",
       "32183    3593\n",
       "32184    3593\n",
       "32185    3593\n",
       "32186    3593\n",
       "Name: period_count, Length: 23271, dtype: int64"
      ]
     },
     "execution_count": 19,
     "metadata": {},
     "output_type": "execute_result"
    }
   ],
   "source": [
    "data[data[\"period\"] == 1][\"period_count\"]"
   ]
  },
  {
   "cell_type": "code",
   "execution_count": 20,
   "id": "964a11db",
   "metadata": {},
   "outputs": [
    {
     "data": {
      "text/plain": [
       "1816     174\n",
       "1817     174\n",
       "1818     174\n",
       "1819     174\n",
       "1820     174\n",
       "        ... \n",
       "31179    174\n",
       "31180    174\n",
       "31181    174\n",
       "31182    174\n",
       "31183    174\n",
       "Name: period_count, Length: 929, dtype: int64"
      ]
     },
     "execution_count": 20,
     "metadata": {},
     "output_type": "execute_result"
    }
   ],
   "source": [
    "data[data[\"period\"] == 2][\"period_count\"]"
   ]
  },
  {
   "cell_type": "code",
   "execution_count": 21,
   "id": "b74c8242",
   "metadata": {},
   "outputs": [
    {
     "data": {
      "text/plain": [
       "0        664\n",
       "1        664\n",
       "2        664\n",
       "3        664\n",
       "4        664\n",
       "        ... \n",
       "31125    664\n",
       "31126    664\n",
       "31127    664\n",
       "31128    664\n",
       "31129    664\n",
       "Name: period_count, Length: 7987, dtype: int64"
      ]
     },
     "execution_count": 21,
     "metadata": {},
     "output_type": "execute_result"
    }
   ],
   "source": [
    "data[data[\"period\"] == 3][\"period_count\"]"
   ]
  },
  {
   "cell_type": "code",
   "execution_count": 22,
   "id": "99fbb576",
   "metadata": {},
   "outputs": [],
   "source": [
    "period1count=3593\n",
    "period2count=174\n",
    "period3count=664"
   ]
  },
  {
   "cell_type": "code",
   "execution_count": 23,
   "id": "6ac2ecd8",
   "metadata": {},
   "outputs": [],
   "source": [
    "def dataprocessing(target):\n",
    "    target = target.apply(lambda x: clean1(x))\n",
    "    target = target.apply(lambda x: clean3(x))\n",
    "    target = target.apply(lambda x: clean2(x))\n",
    "    target = target.apply(lambda x: clean3(x))\n",
    "    target = target.apply(lambda text: lemmatize_words(text))\n",
    "    output = \" \".join(target.tolist())\n",
    "    return output"
   ]
  },
  {
   "cell_type": "code",
   "execution_count": 24,
   "id": "74130774",
   "metadata": {},
   "outputs": [],
   "source": [
    "period1combined = dataprocessing(combined1)\n",
    "period2combined = dataprocessing(combined2)\n",
    "period3combined = dataprocessing(combined3)"
   ]
  },
  {
   "cell_type": "code",
   "execution_count": 25,
   "id": "9aa2b923",
   "metadata": {},
   "outputs": [],
   "source": [
    "# Finding most repeated words in the data\n",
    "def top_words(text,words,count):\n",
    "    allWords = nltk.tokenize.word_tokenize(text)\n",
    "    stopwords = nltk.corpus.stopwords.words('english')\n",
    "    stopwords = set(stopwords)\n",
    "    appendlist = {\"the\",\"i\",'interviewer',\"interview\",\"wa\",\"recruiter\",\"process\",\"question\",\"one\",\"would\",\"1\",'2','3','4','5','6','asked','got','hr'}\n",
    "    stopwords.update(appendlist)\n",
    "    allWordExceptStopDist = nltk.FreqDist([w.lower() for w in allWords if w.lower() not in list(stopwords)])   \n",
    "    mostCommontuples= allWordExceptStopDist.most_common(words)\n",
    "    mostCommon = [(tupl[0],round(tupl[1]/count,2)) for tupl in mostCommontuples]\n",
    "    return mostCommon"
   ]
  },
  {
   "cell_type": "markdown",
   "id": "f77adee8",
   "metadata": {},
   "source": [
    "#### High frequency words for different kinds of situations"
   ]
  },
  {
   "cell_type": "code",
   "execution_count": 26,
   "id": "6aec2846",
   "metadata": {},
   "outputs": [],
   "source": [
    "type1p1 = top_words(period1combined,100,period1count)"
   ]
  },
  {
   "cell_type": "code",
   "execution_count": 27,
   "id": "f3f3f461",
   "metadata": {},
   "outputs": [],
   "source": [
    "type1p2 = top_words(period2combined,100,period2count)"
   ]
  },
  {
   "cell_type": "code",
   "execution_count": 28,
   "id": "2450b3ec",
   "metadata": {},
   "outputs": [],
   "source": [
    "type1p3 = top_words(period2combined,100,period3count)"
   ]
  },
  {
   "cell_type": "code",
   "execution_count": 29,
   "id": "286edc73",
   "metadata": {},
   "outputs": [],
   "source": [
    "def foundchange(list1,list2):\n",
    "    output = {}\n",
    "    for word1 in list1:\n",
    "        for word2 in list2:\n",
    "            if word1[0] == word2[0]:\n",
    "                percentchange = round(word2[1]/word1[1] - 1,2)\n",
    "                if percentchange >= 0.2 or percentchange <= -0.5:\n",
    "                    output[word1[0]] = percentchange\n",
    "    return output"
   ]
  },
  {
   "cell_type": "code",
   "execution_count": 30,
   "id": "86c728ee",
   "metadata": {},
   "outputs": [],
   "source": [
    "def standard(lst,aimdic):\n",
    "    output = {}\n",
    "    total = []\n",
    "    for word in aimdic.keys():\n",
    "        for word1 in lst:\n",
    "            if word1[0] == word:\n",
    "                total.append(word1[1])\n",
    "    average = sum(total) / len(total)\n",
    "    for word in aimdic.keys():\n",
    "        for word1 in lst:\n",
    "            if word1[0] == word:\n",
    "                output[word] = round(word1[1]/average,2)\n",
    "    return output"
   ]
  },
  {
   "cell_type": "code",
   "execution_count": 31,
   "id": "cc0fc99f",
   "metadata": {},
   "outputs": [],
   "source": [
    "def foundchangeforp2to3(aimdic2,aimdic3):\n",
    "    output = {}\n",
    "    for word2 in aimdic2.keys():\n",
    "        for word3 in aimdic3.keys():\n",
    "            if word2 == word3:\n",
    "                output[word2] = round((aimdic3[word2])/(aimdic2[word2])-1,2)\n",
    "    return output"
   ]
  },
  {
   "cell_type": "code",
   "execution_count": 32,
   "id": "1273e09c",
   "metadata": {},
   "outputs": [
    {
     "name": "stdout",
     "output_type": "stream",
     "text": [
      "{'manager': -0.51, 'day': -0.55, 'call': -0.55, 'store': -0.59, 'week': -0.53, 'get': -0.5, 'called': -0.6, 'went': -0.52, 'later': -0.71, 'told': -0.61, 'interviewed': -0.56, 'application': -0.5, 'next': -0.51, 'difficult': -0.61, 'second': -0.59, 'offer': -0.5, 'describe': -0.6, 'round': 0.22, 'come': -0.53, 'go': -0.54, 'service': -0.5, 'de': 2.57}\n"
     ]
    }
   ],
   "source": [
    "change1 = foundchange(type1p1,type1p2)\n",
    "print(change1)"
   ]
  },
  {
   "cell_type": "code",
   "execution_count": 33,
   "id": "719d946e",
   "metadata": {},
   "outputs": [],
   "source": [
    "stand1 = standard(type1p2,foundchange(type1p1,type1p2))"
   ]
  },
  {
   "cell_type": "code",
   "execution_count": 34,
   "id": "6080955b",
   "metadata": {},
   "outputs": [],
   "source": [
    "stand2 = standard(type1p3,foundchange(type1p1,type1p2))"
   ]
  },
  {
   "cell_type": "code",
   "execution_count": 35,
   "id": "1ad7b442",
   "metadata": {},
   "outputs": [],
   "source": [
    "change2 = foundchangeforp2to3(standard(type1p2,foundchange(type1p1,type1p2)),standard(type1p3,foundchange(type1p1,type1p2)))"
   ]
  },
  {
   "cell_type": "code",
   "execution_count": 36,
   "id": "fa5f3719",
   "metadata": {},
   "outputs": [],
   "source": [
    "relatedword = ['later','offer','service','call']"
   ]
  },
  {
   "cell_type": "code",
   "execution_count": 37,
   "id": "5bed9731",
   "metadata": {},
   "outputs": [],
   "source": [
    "def preplot(wordlist,changep1,changep2,intialfrequent):\n",
    "    output = {}\n",
    "    for word in wordlist:\n",
    "        for word1 in intialfrequent:\n",
    "            if word == word1[0]:\n",
    "                initial = word1[1]\n",
    "                p2 = round(initial * (changep1[word]+1),2)\n",
    "                p3 = round(p2 * (changep2[word]+1),2)\n",
    "                output[word] = [initial, p2, p3]\n",
    "    return output"
   ]
  },
  {
   "cell_type": "code",
   "execution_count": 38,
   "id": "c54be200",
   "metadata": {},
   "outputs": [
    {
     "data": {
      "text/plain": [
       "{'later': [1.08, 0.31, 0.3],\n",
       " 'offer': [0.72, 0.36, 0.34],\n",
       " 'service': [0.6, 0.3, 0.3],\n",
       " 'call': [1.54, 0.69, 0.68]}"
      ]
     },
     "execution_count": 38,
     "metadata": {},
     "output_type": "execute_result"
    }
   ],
   "source": [
    "preplot(relatedword,change1,change2,type1p1)"
   ]
  },
  {
   "cell_type": "code",
   "execution_count": 39,
   "id": "ec30f6ca",
   "metadata": {},
   "outputs": [],
   "source": [
    "period = [\"before 2019-12-31\",\"2019-12-31 to 2020-06-30\", \"after 2020-06-30\"]"
   ]
  },
  {
   "cell_type": "code",
   "execution_count": 40,
   "id": "961703a8",
   "metadata": {},
   "outputs": [],
   "source": [
    "def plot(preplot,period):\n",
    "    for word,change in preplot.items():\n",
    "        plt.plot(period,change,label=word)\n",
    "    plt.title('Word changes')\n",
    "    plt.xlabel('period')\n",
    "    plt.ylabel('frequency/day')\n",
    "    plt.legend()"
   ]
  },
  {
   "cell_type": "code",
   "execution_count": 41,
   "id": "b0323676",
   "metadata": {},
   "outputs": [
    {
     "data": {
      "image/png": "[encoded data removed]",
      "text/plain": [
       "<Figure size 432x288 with 1 Axes>"
      ]
     },
     "metadata": {
      "needs_background": "light"
     },
     "output_type": "display_data"
    }
   ],
   "source": [
    "plot(preplot(relatedword,change1,change2,type1p1),period)"
   ]
  }
 ],
 "metadata": {
  "kernelspec": {
   "display_name": "Python 3",
   "language": "python",
   "name": "python3"
  },
  "language_info": {
   "codemirror_mode": {
    "name": "ipython",
    "version": 3
   },
   "file_extension": ".py",
   "mimetype": "text/x-python",
   "name": "python",
   "nbconvert_exporter": "python",
   "pygments_lexer": "ipython3",
   "version": "3.8.8"
  }
 },
 "nbformat": 4,
 "nbformat_minor": 5
}
